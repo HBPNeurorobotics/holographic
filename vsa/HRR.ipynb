{
 "cells": [
  {
   "cell_type": "markdown",
   "metadata": {},
   "source": [
    "Holographic Reduced Representations (HRR)\n",
    "========================================\n",
    "Tutorial\n",
    "--------\n",
    "\n",
    "This is a tutorial for FZI implementation of HRR in Python.\n",
    "\n",
    "Introduction\n",
    "------------\n",
    "\n",
    "First we will import the package."
   ]
  },
  {
   "cell_type": "code",
   "execution_count": 2,
   "metadata": {
    "collapsed": false,
    "scrolled": false
   },
   "outputs": [],
   "source": [
    "from hrr import HRR"
   ]
  },
  {
   "cell_type": "markdown",
   "metadata": {},
   "source": [
    "We can instantiate simple HRR representing number 5 using default constructor."
   ]
  },
  {
   "cell_type": "code",
   "execution_count": 2,
   "metadata": {
    "collapsed": false
   },
   "outputs": [
    {
     "name": "stdout",
     "output_type": "stream",
     "text": [
      "[  1.13975241e-01  -7.65277458e-02  -3.93869992e-02  -2.33400347e-01\n",
      "   1.28870531e-01   1.48340302e-01  -2.43157357e-02  -1.67713123e-01\n",
      "  -1.63889972e-02  -5.61336188e-03  -2.56925027e-01  -1.89525137e-02\n",
      "   1.94775037e-02  -3.86344307e-02  -1.85914802e-01  -8.68220436e-03\n",
      "  -3.32358943e-02   5.00779971e-03   2.43145728e-01   2.34828609e-01\n",
      "   1.99259769e-01  -4.54998401e-02  -1.40151736e-02   2.28843131e-01\n",
      "   1.93312340e-01  -2.62616773e-01   2.90643027e-02   1.58533257e-01\n",
      "  -1.42530903e-01   4.64905243e-03   1.50544270e-01   7.39404345e-02\n",
      "   2.13654759e-04  -1.50748186e-01   2.49553754e-01  -2.60652309e-02\n",
      "   1.48444444e-01  -1.98714931e-01   5.32926025e-03   8.05732069e-02\n",
      "   2.21897969e-01   5.31208972e-02  -9.87797965e-02  -1.43465355e-01\n",
      "   2.34916197e-01   1.38791366e-01   5.81620948e-02  -1.56420407e-01\n",
      "   1.52603532e-01  -4.88301883e-02]\n"
     ]
    }
   ],
   "source": [
    "a = HRR(5)\n",
    "print(a.memory)"
   ]
  },
  {
   "cell_type": "markdown",
   "metadata": {},
   "source": [
    "A randomly generated vector with entries being drawn from Gaussian distribution with mean=0 and stddev=1 is chosen to be unique representation of number 5. Instantiating new HRR with different number is going to generate new random, unique representation and store it globally (during runtime)."
   ]
  },
  {
   "cell_type": "code",
   "execution_count": 3,
   "metadata": {
    "collapsed": false
   },
   "outputs": [
    {
     "name": "stdout",
     "output_type": "stream",
     "text": [
      "[ 0.09639558  0.00177642 -0.02759382 -0.13209416 -0.02040249  0.20797966\n",
      " -0.16766582 -0.09105947  0.00202976  0.0614209  -0.01199971 -0.31121968\n",
      "  0.04661899  0.04941539 -0.09649615  0.02017286  0.26584455  0.03488508\n",
      " -0.15077244  0.28754517  0.02460689 -0.13759132  0.05569837 -0.12435333\n",
      "  0.01776047 -0.16755803 -0.0432739   0.1033084  -0.28210185  0.16932684\n",
      " -0.04162657  0.28431192  0.14279004  0.25922522 -0.01218799  0.13660786\n",
      " -0.15750979  0.08950717 -0.12668126  0.04151819 -0.04508286  0.26767718\n",
      "  0.07388954  0.19476709 -0.01808308 -0.01769343 -0.04531211 -0.04177129\n",
      " -0.07755139 -0.21359849]\n"
     ]
    }
   ],
   "source": [
    "b = HRR(7)\n",
    "print(b.memory)"
   ]
  },
  {
   "cell_type": "markdown",
   "metadata": {},
   "source": [
    "Instantiating another HRR with already seen value to be encoded reuses already determined representation for it:"
   ]
  },
  {
   "cell_type": "code",
   "execution_count": 4,
   "metadata": {
    "collapsed": false
   },
   "outputs": [
    {
     "name": "stdout",
     "output_type": "stream",
     "text": [
      "[ True  True  True  True  True  True  True  True  True  True  True  True\n",
      "  True  True  True  True  True  True  True  True  True  True  True  True\n",
      "  True  True  True  True  True  True  True  True  True  True  True  True\n",
      "  True  True  True  True  True  True  True  True  True  True  True  True\n",
      "  True  True]\n"
     ]
    }
   ],
   "source": [
    "a1 = HRR(5)\n",
    "print(a1.memory == a.memory)"
   ]
  },
  {
   "cell_type": "markdown",
   "metadata": {},
   "source": [
    "Values of arbitrary types can be encoded and minipulated by in HRRs. For instance, we can encode string labels representing objects in the world the same way we encoded integers:"
   ]
  },
  {
   "cell_type": "code",
   "execution_count": 5,
   "metadata": {
    "collapsed": false
   },
   "outputs": [
    {
     "name": "stdout",
     "output_type": "stream",
     "text": [
      "[-0.17710885 -0.04579422  0.06275717 -0.00853552 -0.04794097 -0.01741386\n",
      "  0.27011449 -0.00202604 -0.11689175  0.09577662  0.141171   -0.14436141\n",
      " -0.08316206  0.19119923  0.12282934 -0.16638323  0.15688897  0.11387652\n",
      "  0.15523608  0.17746627 -0.04524144  0.12731182 -0.0499686  -0.3642633\n",
      " -0.19493356 -0.00816241  0.10540955  0.10644555  0.18809549 -0.10403619\n",
      "  0.12108112  0.09406455 -0.17253298 -0.01308533  0.1124809  -0.25271044\n",
      "  0.00285885  0.26233407 -0.16698612  0.2359381   0.11379696 -0.01731307\n",
      " -0.25604016 -0.04073194  0.030779   -0.08380883  0.08621472 -0.02358994\n",
      " -0.03297457  0.06267089]\n"
     ]
    }
   ],
   "source": [
    "c = HRR(\"computer\")\n",
    "print(c.memory)"
   ]
  },
  {
   "cell_type": "markdown",
   "metadata": {},
   "source": [
    "Encoded string \"computer\" and encoded number 5 have the same (default) length:"
   ]
  },
  {
   "cell_type": "code",
   "execution_count": 6,
   "metadata": {
    "collapsed": false
   },
   "outputs": [
    {
     "name": "stdout",
     "output_type": "stream",
     "text": [
      "50\n",
      "True\n"
     ]
    }
   ],
   "source": [
    "print(len(c.memory))\n",
    "print(len(c.memory) == len(a.memory))"
   ]
  },
  {
   "cell_type": "markdown",
   "metadata": {},
   "source": [
    "If needed, HRRs can be instantiated with specified memory size:"
   ]
  },
  {
   "cell_type": "code",
   "execution_count": 7,
   "metadata": {
    "collapsed": false
   },
   "outputs": [
    {
     "name": "stdout",
     "output_type": "stream",
     "text": [
      "False\n"
     ]
    }
   ],
   "source": [
    "d = HRR(12, size=5)\n",
    "print(len(c.memory) == len(d.memory))"
   ]
  },
  {
   "cell_type": "markdown",
   "metadata": {},
   "source": [
    "We will clean the poluted kernel because it contains encodings of variable lenghts, so we can proceed with tutorial. In future it is going to destroy all current memory (something like memory flash from MIB when civilian sees aliens). We will also set the default size of the memory arrays to 20, for increased accuracy."
   ]
  },
  {
   "cell_type": "code",
   "execution_count": 8,
   "metadata": {
    "collapsed": false
   },
   "outputs": [],
   "source": [
    "HRR.reset_kernel()\n",
    "HRR.default_size = 200"
   ]
  },
  {
   "cell_type": "markdown",
   "metadata": {},
   "source": [
    "Operations\n",
    "----------\n",
    "\n",
    "What makes HRR powerful are three basic operations on the representations they build:\n",
    "1. binding (*)\n",
    "2. superposition (+)\n",
    "3. probing (/)\n",
    "\n",
    "To **bind (associate)** two symbols together you can use ** * ** operator. In this example we will represent a concept of \"blue rectangle\" in the following way:"
   ]
  },
  {
   "cell_type": "code",
   "execution_count": 9,
   "metadata": {
    "collapsed": false
   },
   "outputs": [
    {
     "name": "stdout",
     "output_type": "stream",
     "text": [
      "[ 0.03251637 -0.05448632 -0.0909093  -0.0188313   0.03266372 -0.1347405\n",
      "  0.00491984 -0.05945178 -0.09199088  0.08381157 -0.04574972  0.01709158\n",
      "  0.06906671 -0.12872477 -0.06645367  0.07254403 -0.01007704  0.06952036\n",
      "  0.00904236  0.05928538 -0.00121068 -0.12480761 -0.03028589  0.2163495\n",
      "  0.08248434  0.05882121  0.00920874  0.02084055  0.0347103  -0.02512502\n",
      " -0.1033254   0.03436798 -0.08495099  0.09589416 -0.07050423 -0.0067932\n",
      "  0.05321092  0.04977742  0.03271184  0.11920203  0.08029745 -0.00661983\n",
      " -0.02587118 -0.02911626  0.01581361  0.03029673  0.12540055  0.00545638\n",
      "  0.00215465 -0.05111031  0.00453617 -0.01509437  0.04486048  0.07809939\n",
      " -0.01699171 -0.03696959 -0.07193665  0.15227211 -0.00945303 -0.06713294\n",
      "  0.04478813 -0.07625106 -0.01939521  0.00660417 -0.11889529  0.15725466\n",
      " -0.03050326 -0.01999501  0.09768188 -0.06643636  0.01699676  0.03728927\n",
      " -0.07214792  0.09994727 -0.06956185  0.00441036  0.04348144 -0.06732604\n",
      " -0.01239861  0.05092805 -0.15069996  0.01265315 -0.0249798  -0.0738657\n",
      "  0.04724372 -0.10370601  0.00471359 -0.0677957   0.01131611  0.00743577\n",
      " -0.0347483   0.00932263 -0.01634795 -0.14548711  0.06238442  0.0906125\n",
      " -0.22848463 -0.03513026 -0.01233509 -0.01832398  0.04038199 -0.14349436\n",
      "  0.05993785  0.0358456  -0.03349171 -0.01851225  0.02230311 -0.062497\n",
      "  0.06713036 -0.01788073 -0.00082117  0.02706679 -0.06135562 -0.06015032\n",
      "  0.05921887 -0.03752235  0.01035121 -0.05510487  0.01125615 -0.12183358\n",
      " -0.11668081  0.05364077 -0.02777025  0.01170938  0.15366839  0.0082755\n",
      " -0.01945467 -0.05008893  0.00241881  0.12357551  0.01499438  0.01125648\n",
      " -0.02133489 -0.09267039 -0.01313361  0.03447702 -0.03763877  0.10521064\n",
      "  0.05946505  0.12839331  0.11615753  0.11944498  0.07683797  0.0143582\n",
      " -0.03077556  0.08286596 -0.08061398  0.00590264  0.18028758 -0.09864598\n",
      " -0.00970771  0.17369257 -0.07354174  0.17151372 -0.00315048 -0.06725898\n",
      " -0.00392611 -0.01664355 -0.06824748  0.07627135 -0.00797918 -0.04606938\n",
      " -0.00791537 -0.01855888  0.03544084 -0.00227118  0.10605368  0.0591853\n",
      " -0.18385854  0.04213523 -0.15101575 -0.11194956  0.05603508 -0.02510476\n",
      "  0.06909546  0.03235069  0.01636145  0.05428394  0.01141935 -0.06315007\n",
      "  0.00991172 -0.05798598  0.07273316 -0.15582503 -0.13332477 -0.02127172\n",
      " -0.02166409 -0.03780663  0.02915255 -0.04007022  0.11900104 -0.00845676\n",
      " -0.11276392  0.11502403 -0.03768556 -0.02431408 -0.07709641 -0.0206439\n",
      " -0.10217236  0.05987771]\n"
     ]
    },
    {
     "name": "stderr",
     "output_type": "stream",
     "text": [
      "core.py:33: FutureWarning: comparison to `None` will result in an elementwise object comparison in the future.\n",
      "  if memory != None:\n"
     ]
    }
   ],
   "source": [
    "a, b = HRR(\"blue\"), HRR(\"rectangle\")\n",
    "blue_rect = a * b\n",
    "print(blue_rect.memory)"
   ]
  },
  {
   "cell_type": "markdown",
   "metadata": {},
   "source": [
    "Result of operation is vector of the **same lenght** as each of the previously involved operands (\"blue\" and \"rectangle\"). Result of binding can be thought as a form of compression of two independent symbolic representations and two-way association between them.\n",
    "\n",
    "This compound representation can be **probed** using ** / ** operator. If we probe resulting memory with \"blue\" we will get \"rectangle\" as a result."
   ]
  },
  {
   "cell_type": "code",
   "execution_count": 10,
   "metadata": {
    "collapsed": false
   },
   "outputs": [
    {
     "name": "stdout",
     "output_type": "stream",
     "text": [
      "rectangle\n"
     ]
    }
   ],
   "source": [
    "probe_p = blue_rect / \"blue\"\n",
    "print(probe_p)"
   ]
  },
  {
   "cell_type": "markdown",
   "metadata": {},
   "source": [
    "On the other hand, probing the memory with \"rectangle\" is going to return \"blue\" as a result:"
   ]
  },
  {
   "cell_type": "code",
   "execution_count": 11,
   "metadata": {
    "collapsed": false
   },
   "outputs": [
    {
     "name": "stdout",
     "output_type": "stream",
     "text": [
      "blue\n"
     ]
    }
   ],
   "source": [
    "probe_p = blue_rect / \"rectangle\"\n",
    "print(probe_p)"
   ]
  },
  {
   "cell_type": "markdown",
   "metadata": {},
   "source": [
    "We can use **superposition** operator ** + ** to append a symbol to current memory. For example, memorizing \"blue rectangle and red circle\" in a single representation would look like this:"
   ]
  },
  {
   "cell_type": "code",
   "execution_count": 12,
   "metadata": {
    "collapsed": false
   },
   "outputs": [
    {
     "name": "stdout",
     "output_type": "stream",
     "text": [
      "[ 0.10792159 -0.01072924 -0.13878254 -0.04562944  0.0643692  -0.13476047\n",
      "  0.05484574 -0.09265143 -0.05455214  0.03442348  0.05661828 -0.10090814\n",
      "  0.13691242 -0.14185389 -0.02656175  0.16854922 -0.10222535  0.0618349\n",
      "  0.00901084  0.03853181 -0.06119667 -0.10525494  0.08937178  0.20783247\n",
      "  0.07278833  0.06165226 -0.01644419  0.0815716   0.04255617 -0.17291923\n",
      " -0.04920468  0.03196445 -0.0517281   0.19307666 -0.14827804 -0.00908304\n",
      "  0.00968433 -0.06278281  0.10845571  0.1220737   0.26018108  0.01472043\n",
      " -0.08007242  0.10191045  0.00601229  0.07938119  0.0509044   0.08743248\n",
      " -0.06137112 -0.08415813 -0.11445838 -0.01660462  0.00615017  0.11442293\n",
      " -0.18563698 -0.12219684 -0.08369898  0.01951077  0.02321245 -0.22903163\n",
      "  0.00696408 -0.1740938   0.02614014 -0.00199808 -0.07380306  0.18279484\n",
      "  0.13761629 -0.15827204  0.10170305  0.07267936 -0.02096007  0.08165616\n",
      " -0.09516961  0.12577982  0.06811713  0.05057569 -0.01599139 -0.0973556\n",
      " -0.19804663  0.0830703  -0.2210898   0.03018423 -0.00267289 -0.12780402\n",
      "  0.00055064 -0.26680886  0.0224015  -0.06925149  0.03970027 -0.04807448\n",
      " -0.01404345 -0.09898289  0.06815583 -0.16917982  0.10519238  0.00666354\n",
      " -0.27458092  0.06835226 -0.04713578  0.07337063 -0.01069065 -0.12988354\n",
      "  0.09681037  0.05640369 -0.05778825  0.08833201 -0.04772996 -0.04210889\n",
      "  0.03139162  0.01293644  0.08334659 -0.06240208 -0.01379677 -0.06302521\n",
      "  0.04822068  0.06001486  0.13302055 -0.09622627 -0.07844546 -0.295017\n",
      " -0.05085102 -0.03691758  0.03559747 -0.06350442  0.130111    0.09274953\n",
      " -0.00609141 -0.11532836  0.02491458  0.07848039  0.02746454  0.01072576\n",
      " -0.11156786 -0.06557132  0.02456943  0.2066211  -0.09968248  0.12522931\n",
      "  0.02182969  0.22352172  0.13799669  0.15720101  0.00554968  0.1318013\n",
      " -0.06384014  0.15690789 -0.11756806 -0.10948337  0.17349272 -0.14940667\n",
      "  0.10705885  0.13588757 -0.1815817   0.14703731 -0.13303    -0.08145062\n",
      " -0.03647654  0.02906757 -0.08944852  0.06174805 -0.12177925  0.02185136\n",
      " -0.00414754  0.04295806  0.13421244  0.01152943  0.21052511  0.21990531\n",
      " -0.09562688  0.11510998 -0.19856671 -0.00752102  0.09856049 -0.0097805\n",
      "  0.05557997 -0.03517248  0.05689732 -0.13142972  0.02892977 -0.21697001\n",
      " -0.06754176 -0.05586378  0.0530562  -0.12473472 -0.15904126  0.11024452\n",
      " -0.02525765  0.04401134 -0.1334562  -0.01605962  0.15214385  0.08986045\n",
      " -0.01666747  0.12785928  0.01796353 -0.03916868  0.00394243  0.1709255\n",
      " -0.12946927  0.13193532]\n"
     ]
    }
   ],
   "source": [
    "c, d = HRR(\"red\"), HRR(\"circle\")\n",
    "red_circle = c * d\n",
    "m = blue_rect + red_circle\n",
    "print(m.memory)"
   ]
  },
  {
   "cell_type": "markdown",
   "metadata": {},
   "source": [
    "At this point we can probe the memory for any of the related symbols. Here are some examples of queries:"
   ]
  },
  {
   "cell_type": "code",
   "execution_count": 13,
   "metadata": {
    "collapsed": false
   },
   "outputs": [
    {
     "name": "stdout",
     "output_type": "stream",
     "text": [
      "rectangle\n"
     ]
    }
   ],
   "source": [
    "rectangle = m / \"blue\"\n",
    "print(rectangle)"
   ]
  },
  {
   "cell_type": "code",
   "execution_count": 14,
   "metadata": {
    "collapsed": false
   },
   "outputs": [
    {
     "name": "stdout",
     "output_type": "stream",
     "text": [
      "blue\n"
     ]
    }
   ],
   "source": [
    "blue = m / \"rectangle\"\n",
    "print(blue)"
   ]
  },
  {
   "cell_type": "code",
   "execution_count": 15,
   "metadata": {
    "collapsed": false
   },
   "outputs": [
    {
     "name": "stdout",
     "output_type": "stream",
     "text": [
      "red\n"
     ]
    }
   ],
   "source": [
    "red = m / \"circle\"\n",
    "print(red)"
   ]
  },
  {
   "cell_type": "code",
   "execution_count": 16,
   "metadata": {
    "collapsed": false
   },
   "outputs": [
    {
     "name": "stdout",
     "output_type": "stream",
     "text": [
      "circle\n"
     ]
    }
   ],
   "source": [
    "circle = m / \"red\"\n",
    "print(circle)"
   ]
  },
  {
   "cell_type": "markdown",
   "metadata": {},
   "source": [
    "A single memory storage can be used for storing multiple information about a single object in key-value pairs (feature, value)."
   ]
  },
  {
   "cell_type": "code",
   "execution_count": 2,
   "metadata": {
    "collapsed": false
   },
   "outputs": [
    {
     "name": "stdout",
     "output_type": "stream",
     "text": [
      "[ 0.01344586  0.0525318   0.23292031  0.35068527 -0.503478    0.25462682\n",
      "  0.18589297  0.19112231 -0.22373433  0.22969311 -0.007087    0.06388763\n",
      " -0.13797637  0.4820445   0.39294196  0.04929391 -0.11202267 -0.25203626\n",
      " -0.02191077 -0.23785965 -0.05438165 -0.21703881  0.05510503 -0.10438071\n",
      "  0.41127508 -0.1566236  -0.32273128  0.03589589  0.3053564  -0.1511682\n",
      "  0.35933479 -0.15703098 -0.00140794 -0.2854472  -0.26314812 -0.0020104\n",
      " -0.05876893  0.22269589  0.08277174 -0.14318654 -0.35492388 -0.17450583\n",
      "  0.0355396  -0.12291885  0.35105565  0.19103157  0.36110116  0.62557283\n",
      "  0.12772105  0.6540855 ]\n"
     ]
    },
    {
     "name": "stderr",
     "output_type": "stream",
     "text": [
      "core.py:33: FutureWarning: comparison to `None` will result in an elementwise object comparison in the future.\n",
      "  if memory != None:\n"
     ]
    }
   ],
   "source": [
    "HRR.reset_kernel()\n",
    "features = [ \"color\", \"shape\", \"temperature\", \"position\" ]\n",
    "values = [ \"blue\", \"square\", 32.1, (114,46) ]\n",
    "m = None\n",
    "for i in range(len(features)):\n",
    "    if m is None:\n",
    "        m = HRR(features[i]) * values[i]\n",
    "    else:\n",
    "        new_item = HRR(features[i]) * values[i]\n",
    "        m += new_item\n",
    "print(m.memory)"
   ]
  },
  {
   "cell_type": "code",
   "execution_count": 5,
   "metadata": {
    "collapsed": false
   },
   "outputs": [
    {
     "name": "stdout",
     "output_type": "stream",
     "text": [
      "[ 0.20466068  0.15656865 -0.07700905 -0.03969372 -0.29664375 -0.40669807\n",
      " -0.32759348 -0.05067364  0.09544957  0.20832112  0.28436851  0.56388514\n",
      "  0.46657491 -0.16812666  0.19389374 -0.04698304 -0.63032959 -0.31677551\n",
      "  0.3642275  -0.72809272 -0.14465321  0.19999369 -0.39073737  0.11932284\n",
      " -0.21261689  0.20277543 -0.59451544 -0.17522831  0.29746924  0.45659969\n",
      " -0.1997273  -0.45416939 -0.14762528 -0.08776478 -0.10130663 -0.21108861\n",
      " -0.04639088 -0.16295024 -0.53944366 -0.1213439  -0.20569918  0.08537121\n",
      "  0.07021119  0.31002405 -0.42502743 -0.0761972   0.68598082 -0.10189733\n",
      " -0.43519052  0.18489572]\n"
     ]
    }
   ],
   "source": [
    "features = [ \"color\", \"shape\", \"temperature\", \"position\" ]\n",
    "values = [ \"red\", \"circle\", 2.2, (1,32) ]\n",
    "m2 = None\n",
    "for i in range(len(features)):\n",
    "    if m2 is None:\n",
    "        m2 = HRR(features[i]) * values[i]\n",
    "    else:\n",
    "        new_item = HRR(features[i]) * values[i]\n",
    "        m2 += new_item\n",
    "print(m2.memory)"
   ]
  },
  {
   "cell_type": "markdown",
   "metadata": {},
   "source": [
    "This single vector contains information about all of the parameters, which can be easily probed for every feature independently."
   ]
  },
  {
   "cell_type": "code",
   "execution_count": 6,
   "metadata": {
    "collapsed": false
   },
   "outputs": [
    {
     "name": "stdout",
     "output_type": "stream",
     "text": [
      "blue\n",
      "square\n",
      "32.1\n",
      "(114, 46)\n"
     ]
    }
   ],
   "source": [
    "print(m / \"color\")\n",
    "print(m / \"shape\")\n",
    "print(m / \"temperature\")\n",
    "print(m / \"position\")"
   ]
  },
  {
   "cell_type": "markdown",
   "metadata": {},
   "source": [
    "Mapping\n",
    "-------\n",
    "\n",
    "The mechanics of HRRs can be used as potential solution for many different problems, depending on the semantics of information being passed in. In this example we will implement a simple was of representing spatial map of objects and their locations in 2D space: "
   ]
  },
  {
   "cell_type": "code",
   "execution_count": 3,
   "metadata": {
    "collapsed": false
   },
   "outputs": [
    {
     "name": "stdout",
     "output_type": "stream",
     "text": [
      "<type 'str'>\n",
      "<type 'tuple'>\n",
      "encoding coordinate!!!! wo\n",
      "(1, 2)\n",
      "(5, 5)\n",
      "25\n",
      "((1, 2), 0, 0)\n",
      "((1, 2), 0, 1)\n",
      "((1, 2), 1, 0)\n",
      "((1, 2), 1, 1)\n",
      "[[ 0.          0.90483742  0.92311635  0.          0.        ]\n",
      " [ 0.          0.98019867  1.          0.98019867  0.        ]\n",
      " [ 0.          0.          0.92311635  0.90483742  0.        ]\n",
      " [ 0.          0.          0.          0.          0.        ]\n",
      " [ 0.          0.          0.          0.          0.        ]]\n",
      "<type 'str'>\n",
      "<type 'tuple'>\n",
      "encoding coordinate!!!! wo\n",
      "(4, 3)\n",
      "(5, 5)\n",
      "25\n",
      "((4, 3), 0, 0)\n",
      "((4, 3), 0, 1)\n",
      "((4, 3), 1, 0)\n"
     ]
    },
    {
     "name": "stderr",
     "output_type": "stream",
     "text": [
      "hrr.py:126: VisibleDeprecationWarning: using a non-integer number instead of an integer will result in an error in the future\n",
      "  enc = np.zeros(shape=(side_len, side_len), dtype=float)\n",
      "hrr.py:36: FutureWarning: comparison to `None` will result in an elementwise object comparison in the future.\n",
      "  if memory != None:\n"
     ]
    },
    {
     "ename": "IndexError",
     "evalue": "index 5 is out of bounds for axis 0 with size 5",
     "output_type": "error",
     "traceback": [
      "\u001b[1;31m---------------------------------------------------------------------------\u001b[0m",
      "\u001b[1;31mIndexError\u001b[0m                                Traceback (most recent call last)",
      "\u001b[1;32m<ipython-input-3-04f53a8d8c20>\u001b[0m in \u001b[0;36m<module>\u001b[1;34m()\u001b[0m\n\u001b[0;32m      8\u001b[0m         \u001b[0mm\u001b[0m \u001b[1;33m=\u001b[0m \u001b[0mHRR\u001b[0m\u001b[1;33m(\u001b[0m\u001b[0mfeatures\u001b[0m\u001b[1;33m[\u001b[0m\u001b[0mi\u001b[0m\u001b[1;33m]\u001b[0m\u001b[1;33m)\u001b[0m \u001b[1;33m*\u001b[0m \u001b[0mvalues\u001b[0m\u001b[1;33m[\u001b[0m\u001b[0mi\u001b[0m\u001b[1;33m]\u001b[0m\u001b[1;33m\u001b[0m\u001b[0m\n\u001b[0;32m      9\u001b[0m     \u001b[1;32melse\u001b[0m\u001b[1;33m:\u001b[0m\u001b[1;33m\u001b[0m\u001b[0m\n\u001b[1;32m---> 10\u001b[1;33m         \u001b[0mnew_item\u001b[0m \u001b[1;33m=\u001b[0m \u001b[0mHRR\u001b[0m\u001b[1;33m(\u001b[0m\u001b[0mfeatures\u001b[0m\u001b[1;33m[\u001b[0m\u001b[0mi\u001b[0m\u001b[1;33m]\u001b[0m\u001b[1;33m)\u001b[0m \u001b[1;33m*\u001b[0m \u001b[0mvalues\u001b[0m\u001b[1;33m[\u001b[0m\u001b[0mi\u001b[0m\u001b[1;33m]\u001b[0m\u001b[1;33m\u001b[0m\u001b[0m\n\u001b[0m\u001b[0;32m     11\u001b[0m         \u001b[0mm\u001b[0m \u001b[1;33m+=\u001b[0m \u001b[0mnew_item\u001b[0m\u001b[1;33m\u001b[0m\u001b[0m\n\u001b[0;32m     12\u001b[0m \u001b[1;32mprint\u001b[0m\u001b[1;33m(\u001b[0m\u001b[0mm\u001b[0m\u001b[1;33m.\u001b[0m\u001b[0mmemory\u001b[0m\u001b[1;33m)\u001b[0m\u001b[1;33m\u001b[0m\u001b[0m\n",
      "\u001b[1;32m/disk/users/lesi/dev/hrr/hrr.py\u001b[0m in \u001b[0;36m__mul__\u001b[1;34m(self, op)\u001b[0m\n\u001b[0;32m     47\u001b[0m     \u001b[1;32mdef\u001b[0m \u001b[0m__mul__\u001b[0m\u001b[1;33m(\u001b[0m\u001b[0mself\u001b[0m\u001b[1;33m,\u001b[0m \u001b[0mop\u001b[0m\u001b[1;33m)\u001b[0m\u001b[1;33m:\u001b[0m\u001b[1;33m\u001b[0m\u001b[0m\n\u001b[0;32m     48\u001b[0m         \u001b[1;32mif\u001b[0m \u001b[0mop\u001b[0m\u001b[1;33m.\u001b[0m\u001b[0m__class__\u001b[0m \u001b[1;33m!=\u001b[0m \u001b[0mself\u001b[0m\u001b[1;33m.\u001b[0m\u001b[0m__class__\u001b[0m\u001b[1;33m:\u001b[0m\u001b[1;33m\u001b[0m\u001b[0m\n\u001b[1;32m---> 49\u001b[1;33m             \u001b[0mop\u001b[0m \u001b[1;33m=\u001b[0m \u001b[0mHRR\u001b[0m\u001b[1;33m(\u001b[0m\u001b[0mop\u001b[0m\u001b[1;33m)\u001b[0m\u001b[1;33m\u001b[0m\u001b[0m\n\u001b[0m\u001b[0;32m     50\u001b[0m         \u001b[0mmemory\u001b[0m \u001b[1;33m=\u001b[0m \u001b[0mself\u001b[0m\u001b[1;33m.\u001b[0m\u001b[0mcircconv\u001b[0m\u001b[1;33m(\u001b[0m\u001b[0mself\u001b[0m\u001b[1;33m.\u001b[0m\u001b[0mmemory\u001b[0m\u001b[1;33m,\u001b[0m \u001b[0mop\u001b[0m\u001b[1;33m.\u001b[0m\u001b[0mmemory\u001b[0m\u001b[1;33m)\u001b[0m\u001b[1;33m\u001b[0m\u001b[0m\n\u001b[0;32m     51\u001b[0m         \u001b[1;32mreturn\u001b[0m \u001b[0mHRR\u001b[0m\u001b[1;33m(\u001b[0m\u001b[1;34m'-'\u001b[0m\u001b[1;33m,\u001b[0m \u001b[0mmemory\u001b[0m\u001b[1;33m=\u001b[0m\u001b[0mmemory\u001b[0m\u001b[1;33m)\u001b[0m\u001b[1;33m\u001b[0m\u001b[0m\n",
      "\u001b[1;32m/disk/users/lesi/dev/hrr/hrr.py\u001b[0m in \u001b[0;36m__init__\u001b[1;34m(self, v, size, memory)\u001b[0m\n\u001b[0;32m     37\u001b[0m             \u001b[0mself\u001b[0m\u001b[1;33m.\u001b[0m\u001b[0mmemory\u001b[0m \u001b[1;33m=\u001b[0m \u001b[0mmemory\u001b[0m\u001b[1;33m\u001b[0m\u001b[0m\n\u001b[0;32m     38\u001b[0m         \u001b[1;32melse\u001b[0m \u001b[1;33m:\u001b[0m\u001b[1;33m\u001b[0m\u001b[0m\n\u001b[1;32m---> 39\u001b[1;33m             \u001b[0mself\u001b[0m\u001b[1;33m.\u001b[0m\u001b[0mmemory\u001b[0m \u001b[1;33m=\u001b[0m \u001b[0mself\u001b[0m\u001b[1;33m.\u001b[0m\u001b[0mencode\u001b[0m\u001b[1;33m(\u001b[0m\u001b[0msize\u001b[0m\u001b[1;33m,\u001b[0m \u001b[0mv\u001b[0m\u001b[1;33m)\u001b[0m\u001b[1;33m\u001b[0m\u001b[0m\n\u001b[0m\u001b[0;32m     40\u001b[0m             \u001b[0mself\u001b[0m\u001b[1;33m.\u001b[0m\u001b[0mmemory\u001b[0m \u001b[1;33m/=\u001b[0m \u001b[0mnorm\u001b[0m\u001b[1;33m(\u001b[0m\u001b[0mself\u001b[0m\u001b[1;33m.\u001b[0m\u001b[0mmemory\u001b[0m\u001b[1;33m)\u001b[0m\u001b[1;33m;\u001b[0m\u001b[1;33m\u001b[0m\u001b[0m\n\u001b[0;32m     41\u001b[0m \u001b[1;33m\u001b[0m\u001b[0m\n",
      "\u001b[1;32m/disk/users/lesi/dev/hrr/hrr.py\u001b[0m in \u001b[0;36mencode\u001b[1;34m(self, sz, op)\u001b[0m\n\u001b[0;32m    115\u001b[0m             \u001b[1;32mprint\u001b[0m\u001b[1;33m(\u001b[0m\u001b[0mtype\u001b[0m\u001b[1;33m(\u001b[0m\u001b[0mop\u001b[0m\u001b[1;33m)\u001b[0m\u001b[1;33m)\u001b[0m\u001b[1;33m\u001b[0m\u001b[0m\n\u001b[0;32m    116\u001b[0m             \u001b[1;32mif\u001b[0m \u001b[0mtype\u001b[0m\u001b[1;33m(\u001b[0m\u001b[0mop\u001b[0m\u001b[1;33m)\u001b[0m \u001b[1;33m==\u001b[0m \u001b[0mtuple\u001b[0m\u001b[1;33m:\u001b[0m\u001b[1;33m\u001b[0m\u001b[0m\n\u001b[1;32m--> 117\u001b[1;33m                 \u001b[0mHRR\u001b[0m\u001b[1;33m.\u001b[0m\u001b[0mmapping\u001b[0m\u001b[1;33m[\u001b[0m\u001b[0mop\u001b[0m\u001b[1;33m]\u001b[0m \u001b[1;33m=\u001b[0m \u001b[0mself\u001b[0m\u001b[1;33m.\u001b[0m\u001b[0mcoordinate_encoder\u001b[0m\u001b[1;33m(\u001b[0m\u001b[0mop\u001b[0m\u001b[1;33m,\u001b[0m \u001b[1;33m(\u001b[0m\u001b[1;36m0\u001b[0m\u001b[1;33m,\u001b[0m\u001b[1;36m0\u001b[0m\u001b[1;33m)\u001b[0m\u001b[1;33m,\u001b[0m \u001b[1;33m(\u001b[0m\u001b[1;36m5\u001b[0m\u001b[1;33m,\u001b[0m\u001b[1;36m5\u001b[0m\u001b[1;33m)\u001b[0m\u001b[1;33m)\u001b[0m\u001b[1;33m\u001b[0m\u001b[0m\n\u001b[0m\u001b[0;32m    118\u001b[0m             \u001b[1;32melse\u001b[0m\u001b[1;33m:\u001b[0m\u001b[1;33m\u001b[0m\u001b[0m\n\u001b[0;32m    119\u001b[0m                 \u001b[0mHRR\u001b[0m\u001b[1;33m.\u001b[0m\u001b[0mmapping\u001b[0m\u001b[1;33m[\u001b[0m\u001b[0mop\u001b[0m\u001b[1;33m]\u001b[0m \u001b[1;33m=\u001b[0m \u001b[0marray\u001b[0m\u001b[1;33m(\u001b[0m\u001b[1;33m[\u001b[0m\u001b[0mrandom\u001b[0m\u001b[1;33m.\u001b[0m\u001b[0mgauss\u001b[0m\u001b[1;33m(\u001b[0m\u001b[1;36m0\u001b[0m\u001b[1;33m,\u001b[0m\u001b[1;36m1\u001b[0m\u001b[1;33m)\u001b[0m \u001b[1;32mfor\u001b[0m \u001b[0mi\u001b[0m \u001b[1;32min\u001b[0m \u001b[0mrange\u001b[0m\u001b[1;33m(\u001b[0m\u001b[0mself\u001b[0m\u001b[1;33m.\u001b[0m\u001b[0msize\u001b[0m\u001b[1;33m)\u001b[0m\u001b[1;33m]\u001b[0m\u001b[1;33m)\u001b[0m\u001b[1;33m\u001b[0m\u001b[0m\n",
      "\u001b[1;32m/disk/users/lesi/dev/hrr/hrr.py\u001b[0m in \u001b[0;36mcoordinate_encoder\u001b[1;34m(self, x, limits_min, limits_max)\u001b[0m\n\u001b[0;32m    135\u001b[0m                     \u001b[0menc\u001b[0m\u001b[1;33m[\u001b[0m\u001b[0mx\u001b[0m\u001b[1;33m[\u001b[0m\u001b[1;36m0\u001b[0m\u001b[1;33m]\u001b[0m \u001b[1;33m+\u001b[0m \u001b[0mi\u001b[0m\u001b[1;33m]\u001b[0m\u001b[1;33m[\u001b[0m\u001b[0mx\u001b[0m\u001b[1;33m[\u001b[0m\u001b[1;36m1\u001b[0m\u001b[1;33m]\u001b[0m \u001b[1;33m+\u001b[0m \u001b[0mj\u001b[0m\u001b[1;33m]\u001b[0m \u001b[1;33m=\u001b[0m \u001b[0mself\u001b[0m\u001b[1;33m.\u001b[0m\u001b[0mgaussian\u001b[0m\u001b[1;33m(\u001b[0m\u001b[0mx\u001b[0m\u001b[1;33m[\u001b[0m\u001b[0mi\u001b[0m\u001b[1;33m]\u001b[0m \u001b[1;33m+\u001b[0m \u001b[0mi\u001b[0m\u001b[1;33m,\u001b[0m\u001b[0mx\u001b[0m\u001b[1;33m[\u001b[0m\u001b[1;36m0\u001b[0m\u001b[1;33m]\u001b[0m\u001b[1;33m,\u001b[0m\u001b[0mstddev\u001b[0m\u001b[1;33m)\u001b[0m \u001b[1;33m*\u001b[0m \u001b[0mself\u001b[0m\u001b[1;33m.\u001b[0m\u001b[0mgaussian\u001b[0m\u001b[1;33m(\u001b[0m\u001b[0mx\u001b[0m\u001b[1;33m[\u001b[0m\u001b[1;36m1\u001b[0m\u001b[1;33m]\u001b[0m \u001b[1;33m+\u001b[0m \u001b[0mj\u001b[0m\u001b[1;33m,\u001b[0m\u001b[0mx\u001b[0m\u001b[1;33m[\u001b[0m\u001b[1;36m1\u001b[0m\u001b[1;33m]\u001b[0m\u001b[1;33m,\u001b[0m\u001b[0mstddev\u001b[0m\u001b[1;33m)\u001b[0m\u001b[1;33m\u001b[0m\u001b[0m\n\u001b[0;32m    136\u001b[0m                 \u001b[1;32mif\u001b[0m \u001b[1;33m(\u001b[0m\u001b[1;33m(\u001b[0m\u001b[0mx\u001b[0m\u001b[1;33m[\u001b[0m\u001b[1;36m0\u001b[0m\u001b[1;33m]\u001b[0m \u001b[1;33m-\u001b[0m \u001b[0mi\u001b[0m \u001b[1;33m>=\u001b[0m \u001b[1;36m0\u001b[0m\u001b[1;33m)\u001b[0m \u001b[1;33m&\u001b[0m \u001b[1;33m(\u001b[0m\u001b[0mx\u001b[0m\u001b[1;33m[\u001b[0m\u001b[1;36m1\u001b[0m\u001b[1;33m]\u001b[0m \u001b[1;33m-\u001b[0m \u001b[0mj\u001b[0m \u001b[1;33m>=\u001b[0m \u001b[1;36m0\u001b[0m\u001b[1;33m)\u001b[0m\u001b[1;33m)\u001b[0m\u001b[1;33m:\u001b[0m\u001b[1;33m\u001b[0m\u001b[0m\n\u001b[1;32m--> 137\u001b[1;33m                     \u001b[0menc\u001b[0m\u001b[1;33m[\u001b[0m\u001b[0mx\u001b[0m\u001b[1;33m[\u001b[0m\u001b[1;36m0\u001b[0m\u001b[1;33m]\u001b[0m \u001b[1;33m-\u001b[0m \u001b[0mi\u001b[0m\u001b[1;33m]\u001b[0m\u001b[1;33m[\u001b[0m\u001b[0mx\u001b[0m\u001b[1;33m[\u001b[0m\u001b[1;36m1\u001b[0m\u001b[1;33m]\u001b[0m \u001b[1;33m-\u001b[0m \u001b[0mj\u001b[0m\u001b[1;33m]\u001b[0m \u001b[1;33m=\u001b[0m \u001b[0menc\u001b[0m\u001b[1;33m[\u001b[0m\u001b[0mx\u001b[0m\u001b[1;33m[\u001b[0m\u001b[1;36m0\u001b[0m\u001b[1;33m]\u001b[0m \u001b[1;33m+\u001b[0m \u001b[0mi\u001b[0m\u001b[1;33m]\u001b[0m\u001b[1;33m[\u001b[0m\u001b[0mx\u001b[0m\u001b[1;33m[\u001b[0m\u001b[1;36m1\u001b[0m\u001b[1;33m]\u001b[0m \u001b[1;33m+\u001b[0m \u001b[0mj\u001b[0m\u001b[1;33m]\u001b[0m\u001b[1;33m\u001b[0m\u001b[0m\n\u001b[0m\u001b[0;32m    138\u001b[0m \u001b[1;33m\u001b[0m\u001b[0m\n\u001b[0;32m    139\u001b[0m \u001b[1;33m\u001b[0m\u001b[0m\n",
      "\u001b[1;31mIndexError\u001b[0m: index 5 is out of bounds for axis 0 with size 5"
     ]
    }
   ],
   "source": [
    "from hrr import HRR\n",
    "HRR.reset_kernel()\n",
    "features = [ \"door\", \"tree\", \"car\", \"table\", \"computer\" ]\n",
    "values = [ (1,2), (4,3), (2,3), (2,1), (1,0) ]\n",
    "m = None\n",
    "for i in range(len(features)):\n",
    "    if m is None:\n",
    "        m = HRR(features[i]) * values[i]\n",
    "    else:\n",
    "        new_item = HRR(features[i]) * values[i]\n",
    "        m += new_item\n",
    "print(m.memory)"
   ]
  },
  {
   "cell_type": "markdown",
   "metadata": {},
   "source": [
    "### \"Where is this object?\"\n",
    "\n",
    "As we know, we can probe this representation for object names and we will get respective locations in the map:"
   ]
  },
  {
   "cell_type": "code",
   "execution_count": 4,
   "metadata": {
    "collapsed": false
   },
   "outputs": [
    {
     "name": "stdout",
     "output_type": "stream",
     "text": [
      "(114, 46)\n",
      "(1, 50)\n"
     ]
    }
   ],
   "source": [
    "print(m / \"car\")\n",
    "print(m / \"computer\")"
   ]
  },
  {
   "cell_type": "markdown",
   "metadata": {},
   "source": [
    "### \"What is on this location?\"\n",
    "\n",
    "We can querry spatial information about map by providing specific coordinaes of interest instead of object names:"
   ]
  },
  {
   "cell_type": "code",
   "execution_count": 10,
   "metadata": {
    "collapsed": false
   },
   "outputs": [
    {
     "name": "stdout",
     "output_type": "stream",
     "text": [
      "table\n",
      "computer\n",
      "car\n"
     ]
    }
   ],
   "source": [
    "print(m / (50,1))\n",
    "print(m / (1,50))\n",
    "print(m / (114,46))"
   ]
  },
  {
   "cell_type": "markdown",
   "metadata": {},
   "source": [
    "Semantic encoding example for strings\n",
    "================\n"
   ]
  },
  {
   "cell_type": "code",
   "execution_count": 18,
   "metadata": {
    "collapsed": false
   },
   "outputs": [
    {
     "name": "stdout",
     "output_type": "stream",
     "text": [
      "white\n",
      "white\n",
      "white\n"
     ]
    }
   ],
   "source": [
    "import numpy as np\n",
    "HRR.reset_kernel()\n",
    "HRR.default_size = 50\n",
    "\n",
    "items = [ \"door\", \"tree\", \"car\", \"table\", \"computer\" ]\n",
    "colors = [ \"blue\", \"green\", \"red\", \"brown\", \"white\" ]\n",
    "\n",
    "m = None\n",
    "for i in range(len(items)):\n",
    "    if m is None:\n",
    "        m = HRR(items[i]) * colors[i]\n",
    "    else:\n",
    "        new_item = HRR(items[i]) * colors[i]\n",
    "        m += new_item\n",
    "  \n",
    "e = np.array(HRR.mapping[\"computer\"])\n",
    "\n",
    "# encode \"PC\" similarly to \"computer\"\n",
    "e += np.random.uniform(-0.2,0.15, 50)\n",
    "HRR.mapping[\"PC\"] = np.array(e)\n",
    "\n",
    "# encode \"laptop\" similarly to \"PC\"\n",
    "e += np.random.uniform(-0.2,0.15, 50)\n",
    "HRR.mapping[\"laptop\"] = e\n",
    "\n",
    "print(m / \"PC\")\n",
    "print(m / \"laptop\")\n",
    "print(m / \"computer\")"
   ]
  },
  {
   "cell_type": "markdown",
   "metadata": {},
   "source": [
    "Serial memory\n",
    "=============\n",
    "\n",
    "Binding items with index gives ability of storing ordered lists:"
   ]
  },
  {
   "cell_type": "code",
   "execution_count": 11,
   "metadata": {
    "collapsed": false
   },
   "outputs": [
    {
     "name": "stdout",
     "output_type": "stream",
     "text": [
      "[-0.07657664  0.21751306  0.13719388  0.56211738 -0.08521719 -0.04905313\n",
      " -0.55145038  0.01649205 -0.29408373  0.34673499  0.1756631   0.34043089\n",
      " -0.13105342  0.26040072  0.1708475   0.12094029 -0.50998414 -0.21180933\n",
      " -0.50454653 -0.1037087  -0.16369129 -0.40401407  0.32497306  0.34915788\n",
      "  0.34507793 -0.14328147 -0.25853187  0.03958084  0.85322718  0.1336401\n",
      "  0.40805473 -0.2242996   0.09797664 -0.39100786  0.41790235 -0.36915619\n",
      " -0.45140208 -0.79442458  0.20543426 -0.40476572  0.11952552 -0.01193384\n",
      " -0.29627896  0.09001276 -0.60095758 -0.49708898  0.03956882 -0.03064929\n",
      " -0.01777879  0.44639181]\n"
     ]
    }
   ],
   "source": [
    "HRR.reset_kernel()\n",
    "items = [ \"door\", \"tree\", \"car\", \"table\", \"computer\" ]\n",
    "m = None\n",
    "for i in range(len(items)):\n",
    "    if m is None:\n",
    "        m = HRR(items[i]) * i\n",
    "    else:\n",
    "        new_item = HRR(items[i]) * i\n",
    "        m += new_item\n",
    "print(m.memory)"
   ]
  },
  {
   "cell_type": "markdown",
   "metadata": {},
   "source": [
    "### \"When was object seen?\"\n",
    "\n",
    "We can probe the memory for ordering information based on the object name:"
   ]
  },
  {
   "cell_type": "code",
   "execution_count": 12,
   "metadata": {
    "collapsed": false
   },
   "outputs": [
    {
     "name": "stdout",
     "output_type": "stream",
     "text": [
      "0\n",
      "3\n"
     ]
    }
   ],
   "source": [
    "print(m / \"door\")\n",
    "print(m / \"table\")"
   ]
  },
  {
   "cell_type": "markdown",
   "metadata": {},
   "source": [
    "### \"What is the second element?\"\n",
    "\n",
    "We can querry ordering information about list by providing specific index of interest instead of object names:"
   ]
  },
  {
   "cell_type": "code",
   "execution_count": 13,
   "metadata": {
    "collapsed": false
   },
   "outputs": [
    {
     "name": "stdout",
     "output_type": "stream",
     "text": [
      "car\n",
      "computer\n"
     ]
    }
   ],
   "source": [
    "print(m / 2)\n",
    "print(m / 4)"
   ]
  },
  {
   "cell_type": "markdown",
   "metadata": {},
   "source": [
    "### Non-indexed serial recall\n",
    "\n",
    "Instead of using explicit index, only ordering can be encoding using a single *wildcard* representation, successivly bound with itself and used as a placeholder item for every item of the list:"
   ]
  },
  {
   "cell_type": "code",
   "execution_count": 14,
   "metadata": {
    "collapsed": false
   },
   "outputs": [
    {
     "name": "stdout",
     "output_type": "stream",
     "text": [
      "[-1.89699696  2.12368996  0.11761831 -3.52714276 -0.92376296  2.27468346\n",
      "  2.74432212 -4.65182377 -1.37402872  1.93384066 -4.97288816  3.27498391\n",
      "  3.94570423  1.8645443   2.15839109  1.04106435 -1.07055158  0.11708291\n",
      " -0.72896296  0.65304207  2.55141279  1.3710693   1.14979436  3.11047681\n",
      "  5.18688357  0.67501832 -3.16107258 -1.28228086 -1.79172265  2.84680373\n",
      "  1.74323849 -0.1110923   3.18715513  2.4172938  -2.93556984 -2.34133207\n",
      "  1.12178507 -1.37288495 -0.91120474 -0.37564659  1.15904508  0.65685147\n",
      "  2.39171634  2.58333296  1.22148116  0.55425672 -2.92109199  0.54251322\n",
      "  1.15578156 -5.11460485]\n"
     ]
    }
   ],
   "source": [
    "HRR.reset_kernel()\n",
    "items = [ \"door\", \"tree\", \"car\", \"table\", \"computer\" ]\n",
    "m = None\n",
    "placeholder = HRR(\"HRRs are cool!\")\n",
    "for i in range(len(items)):\n",
    "    if m is None:\n",
    "        m = HRR(items[i]) * placeholder\n",
    "    else:\n",
    "        new_item = HRR(items[i]) * placeholder\n",
    "        m += new_item\n",
    "    placeholder += placeholder \n",
    "print(m.memory)"
   ]
  },
  {
   "cell_type": "markdown",
   "metadata": {},
   "source": [
    "In order to recall the items from the list, we need to know the number of elements in the memory and *pick* the same starting placeholder item:"
   ]
  },
  {
   "cell_type": "markdown",
   "metadata": {},
   "source": [
    "Triplets\n",
    "=====\n",
    "\n",
    "Binding works not only with pairs, but with triplets as well. There is a two-way unbinding process for reaching the original single data point. In the example bellow we bind triplet (5, \"color\", \"blue\") and link it with triplet (5, \"name\", \"sky\"). Querying that HRR gives equally probable pairs (\"color\", \"blue\") and (\"name\", \"sky\"), which do not have to be cleaned. For this we use another operator **%**, to get raw unbinding data and process it further.\n",
    "\n",
    "We probe the noisy result of previous probing with \"name\" to finally extract \"sky\":"
   ]
  },
  {
   "cell_type": "code",
   "execution_count": 15,
   "metadata": {
    "collapsed": false,
    "scrolled": true
   },
   "outputs": [
    {
     "name": "stdout",
     "output_type": "stream",
     "text": [
      "<core.HRR instance at 0x7f6e77302290>\n"
     ]
    },
    {
     "ename": "AttributeError",
     "evalue": "HRR instance has no attribute '__float__'",
     "output_type": "error",
     "traceback": [
      "\u001b[1;31m---------------------------------------------------------------------------\u001b[0m",
      "\u001b[1;31mAttributeError\u001b[0m                            Traceback (most recent call last)",
      "\u001b[1;32m<ipython-input-15-8eb92fee8e0b>\u001b[0m in \u001b[0;36m<module>\u001b[1;34m()\u001b[0m\n\u001b[0;32m      5\u001b[0m \u001b[0mt\u001b[0m \u001b[1;33m=\u001b[0m \u001b[0mw\u001b[0m \u001b[1;33m%\u001b[0m \u001b[1;36m5\u001b[0m\u001b[1;33m\u001b[0m\u001b[0m\n\u001b[0;32m      6\u001b[0m \u001b[1;32mprint\u001b[0m\u001b[1;33m(\u001b[0m\u001b[0mt\u001b[0m\u001b[1;33m)\u001b[0m\u001b[1;33m\u001b[0m\u001b[0m\n\u001b[1;32m----> 7\u001b[1;33m \u001b[0mu\u001b[0m \u001b[1;33m=\u001b[0m \u001b[0mHRR\u001b[0m\u001b[1;33m(\u001b[0m\u001b[1;34m't'\u001b[0m\u001b[1;33m,\u001b[0m \u001b[0mmemory\u001b[0m \u001b[1;33m=\u001b[0m \u001b[0mt\u001b[0m\u001b[1;33m)\u001b[0m \u001b[1;33m/\u001b[0m \u001b[1;34m\"name\"\u001b[0m\u001b[1;33m\u001b[0m\u001b[0m\n\u001b[0m\u001b[0;32m      8\u001b[0m \u001b[1;32mprint\u001b[0m\u001b[1;33m(\u001b[0m\u001b[0mu\u001b[0m\u001b[1;33m)\u001b[0m\u001b[1;33m\u001b[0m\u001b[0m\n",
      "\u001b[1;32m/home/igor/dev/hrr/core.py\u001b[0m in \u001b[0;36m__div__\u001b[1;34m(self, op)\u001b[0m\n\u001b[0;32m     74\u001b[0m \u001b[1;33m\u001b[0m\u001b[0m\n\u001b[0;32m     75\u001b[0m         \u001b[1;31m# perform unbinding\u001b[0m\u001b[1;33m\u001b[0m\u001b[1;33m\u001b[0m\u001b[0m\n\u001b[1;32m---> 76\u001b[1;33m         \u001b[0mop_dec\u001b[0m \u001b[1;33m=\u001b[0m \u001b[0mself\u001b[0m\u001b[1;33m.\u001b[0m\u001b[0mperiodic_corr\u001b[0m\u001b[1;33m(\u001b[0m\u001b[0mself\u001b[0m\u001b[1;33m.\u001b[0m\u001b[0mmemory\u001b[0m\u001b[1;33m,\u001b[0m \u001b[0mop\u001b[0m\u001b[1;33m.\u001b[0m\u001b[0mmemory\u001b[0m\u001b[1;33m)\u001b[0m\u001b[1;33m\u001b[0m\u001b[0m\n\u001b[0m\u001b[0;32m     77\u001b[0m \u001b[1;33m\u001b[0m\u001b[0m\n\u001b[0;32m     78\u001b[0m         \u001b[1;31m# cleanup of noisy result by dictionary lookup\u001b[0m\u001b[1;33m\u001b[0m\u001b[1;33m\u001b[0m\u001b[0m\n",
      "\u001b[1;32m/home/igor/dev/hrr/core.py\u001b[0m in \u001b[0;36mperiodic_corr\u001b[1;34m(self, x, y)\u001b[0m\n\u001b[0;32m    136\u001b[0m \u001b[1;33m\u001b[0m\u001b[0m\n\u001b[0;32m    137\u001b[0m     \u001b[1;32mdef\u001b[0m \u001b[0mperiodic_corr\u001b[0m\u001b[1;33m(\u001b[0m\u001b[0mself\u001b[0m\u001b[1;33m,\u001b[0m \u001b[0mx\u001b[0m\u001b[1;33m,\u001b[0m \u001b[0my\u001b[0m\u001b[1;33m)\u001b[0m\u001b[1;33m:\u001b[0m\u001b[1;33m\u001b[0m\u001b[0m\n\u001b[1;32m--> 138\u001b[1;33m         \u001b[1;32mreturn\u001b[0m \u001b[0mifft\u001b[0m\u001b[1;33m(\u001b[0m\u001b[0mfft\u001b[0m\u001b[1;33m(\u001b[0m\u001b[0mx\u001b[0m\u001b[1;33m)\u001b[0m \u001b[1;33m*\u001b[0m \u001b[0mfft\u001b[0m\u001b[1;33m(\u001b[0m\u001b[0my\u001b[0m\u001b[1;33m)\u001b[0m\u001b[1;33m.\u001b[0m\u001b[0mconj\u001b[0m\u001b[1;33m(\u001b[0m\u001b[1;33m)\u001b[0m\u001b[1;33m)\u001b[0m\u001b[1;33m.\u001b[0m\u001b[0mreal\u001b[0m\u001b[1;33m\u001b[0m\u001b[0m\n\u001b[0m\u001b[0;32m    139\u001b[0m \u001b[1;33m\u001b[0m\u001b[0m\n\u001b[0;32m    140\u001b[0m     \u001b[1;32mdef\u001b[0m \u001b[0mcircconv\u001b[0m\u001b[1;33m(\u001b[0m\u001b[0mself\u001b[0m\u001b[1;33m,\u001b[0m \u001b[0ma\u001b[0m\u001b[1;33m,\u001b[0m \u001b[0mb\u001b[0m\u001b[1;33m)\u001b[0m\u001b[1;33m:\u001b[0m\u001b[1;33m\u001b[0m\u001b[0m\n",
      "\u001b[1;32m/home/igor/dev/nengo_venv/local/lib/python2.7/site-packages/numpy-1.11.0-py2.7-linux-x86_64.egg/numpy/fft/fftpack.pyc\u001b[0m in \u001b[0;36mfft\u001b[1;34m(a, n, axis, norm)\u001b[0m\n\u001b[0;32m    184\u001b[0m     \"\"\"\n\u001b[0;32m    185\u001b[0m \u001b[1;33m\u001b[0m\u001b[0m\n\u001b[1;32m--> 186\u001b[1;33m     \u001b[0ma\u001b[0m \u001b[1;33m=\u001b[0m \u001b[0masarray\u001b[0m\u001b[1;33m(\u001b[0m\u001b[0ma\u001b[0m\u001b[1;33m)\u001b[0m\u001b[1;33m.\u001b[0m\u001b[0mastype\u001b[0m\u001b[1;33m(\u001b[0m\u001b[0mcomplex\u001b[0m\u001b[1;33m,\u001b[0m \u001b[0mcopy\u001b[0m\u001b[1;33m=\u001b[0m\u001b[0mFalse\u001b[0m\u001b[1;33m)\u001b[0m\u001b[1;33m\u001b[0m\u001b[0m\n\u001b[0m\u001b[0;32m    187\u001b[0m     \u001b[1;32mif\u001b[0m \u001b[0mn\u001b[0m \u001b[1;32mis\u001b[0m \u001b[0mNone\u001b[0m\u001b[1;33m:\u001b[0m\u001b[1;33m\u001b[0m\u001b[0m\n\u001b[0;32m    188\u001b[0m         \u001b[0mn\u001b[0m \u001b[1;33m=\u001b[0m \u001b[0ma\u001b[0m\u001b[1;33m.\u001b[0m\u001b[0mshape\u001b[0m\u001b[1;33m[\u001b[0m\u001b[0maxis\u001b[0m\u001b[1;33m]\u001b[0m\u001b[1;33m\u001b[0m\u001b[0m\n",
      "\u001b[1;31mAttributeError\u001b[0m: HRR instance has no attribute '__float__'"
     ]
    }
   ],
   "source": [
    "HRR.reset_kernel()\n",
    "HRR.default_size = 40\n",
    "w = HRR(5) * HRR(\"color\") * HRR(\"blue\") + HRR(5) * HRR(\"name\") * HRR(\"sky\")\n",
    "\n",
    "t = w % 5\n",
    "print(t)\n",
    "u = HRR('t', memory = t) / \"name\"\n",
    "print(u)"
   ]
  },
  {
   "cell_type": "markdown",
   "metadata": {},
   "source": [
    "Selective (intentional) forgetting\n",
    "----------------------------------\n",
    "\n",
    "Superposition (+) link two representations into single one, allowing effect of appending. Complementary operation is **subtraction (-)**, which can be used to forget or delete representations from memory."
   ]
  },
  {
   "cell_type": "code",
   "execution_count": 16,
   "metadata": {
    "collapsed": false,
    "scrolled": true
   },
   "outputs": [
    {
     "ename": "AttributeError",
     "evalue": "HRR instance has no attribute '__float__'",
     "output_type": "error",
     "traceback": [
      "\u001b[1;31m---------------------------------------------------------------------------\u001b[0m",
      "\u001b[1;31mAttributeError\u001b[0m                            Traceback (most recent call last)",
      "\u001b[1;32m<ipython-input-16-ca19347e975c>\u001b[0m in \u001b[0;36m<module>\u001b[1;34m()\u001b[0m\n\u001b[0;32m      4\u001b[0m \u001b[1;33m\u001b[0m\u001b[0m\n\u001b[0;32m      5\u001b[0m \u001b[0mt\u001b[0m \u001b[1;33m=\u001b[0m \u001b[0mw\u001b[0m \u001b[1;33m%\u001b[0m \u001b[1;36m5\u001b[0m\u001b[1;33m\u001b[0m\u001b[0m\n\u001b[1;32m----> 6\u001b[1;33m \u001b[0mu\u001b[0m \u001b[1;33m=\u001b[0m \u001b[0mHRR\u001b[0m\u001b[1;33m(\u001b[0m\u001b[1;34m't'\u001b[0m\u001b[1;33m,\u001b[0m \u001b[0mmemory\u001b[0m \u001b[1;33m=\u001b[0m \u001b[0mt\u001b[0m\u001b[1;33m)\u001b[0m \u001b[1;33m/\u001b[0m \u001b[1;34m\"name\"\u001b[0m\u001b[1;33m\u001b[0m\u001b[0m\n\u001b[0m\u001b[0;32m      7\u001b[0m \u001b[1;32mprint\u001b[0m\u001b[1;33m(\u001b[0m\u001b[1;34m'Before forgeting: {}'\u001b[0m\u001b[1;33m.\u001b[0m\u001b[0mformat\u001b[0m\u001b[1;33m(\u001b[0m\u001b[0mu\u001b[0m\u001b[1;33m)\u001b[0m\u001b[1;33m)\u001b[0m\u001b[1;33m\u001b[0m\u001b[0m\n\u001b[0;32m      8\u001b[0m \u001b[1;33m\u001b[0m\u001b[0m\n",
      "\u001b[1;32m/home/igor/dev/hrr/core.py\u001b[0m in \u001b[0;36m__div__\u001b[1;34m(self, op)\u001b[0m\n\u001b[0;32m     74\u001b[0m \u001b[1;33m\u001b[0m\u001b[0m\n\u001b[0;32m     75\u001b[0m         \u001b[1;31m# perform unbinding\u001b[0m\u001b[1;33m\u001b[0m\u001b[1;33m\u001b[0m\u001b[0m\n\u001b[1;32m---> 76\u001b[1;33m         \u001b[0mop_dec\u001b[0m \u001b[1;33m=\u001b[0m \u001b[0mself\u001b[0m\u001b[1;33m.\u001b[0m\u001b[0mperiodic_corr\u001b[0m\u001b[1;33m(\u001b[0m\u001b[0mself\u001b[0m\u001b[1;33m.\u001b[0m\u001b[0mmemory\u001b[0m\u001b[1;33m,\u001b[0m \u001b[0mop\u001b[0m\u001b[1;33m.\u001b[0m\u001b[0mmemory\u001b[0m\u001b[1;33m)\u001b[0m\u001b[1;33m\u001b[0m\u001b[0m\n\u001b[0m\u001b[0;32m     77\u001b[0m \u001b[1;33m\u001b[0m\u001b[0m\n\u001b[0;32m     78\u001b[0m         \u001b[1;31m# cleanup of noisy result by dictionary lookup\u001b[0m\u001b[1;33m\u001b[0m\u001b[1;33m\u001b[0m\u001b[0m\n",
      "\u001b[1;32m/home/igor/dev/hrr/core.py\u001b[0m in \u001b[0;36mperiodic_corr\u001b[1;34m(self, x, y)\u001b[0m\n\u001b[0;32m    136\u001b[0m \u001b[1;33m\u001b[0m\u001b[0m\n\u001b[0;32m    137\u001b[0m     \u001b[1;32mdef\u001b[0m \u001b[0mperiodic_corr\u001b[0m\u001b[1;33m(\u001b[0m\u001b[0mself\u001b[0m\u001b[1;33m,\u001b[0m \u001b[0mx\u001b[0m\u001b[1;33m,\u001b[0m \u001b[0my\u001b[0m\u001b[1;33m)\u001b[0m\u001b[1;33m:\u001b[0m\u001b[1;33m\u001b[0m\u001b[0m\n\u001b[1;32m--> 138\u001b[1;33m         \u001b[1;32mreturn\u001b[0m \u001b[0mifft\u001b[0m\u001b[1;33m(\u001b[0m\u001b[0mfft\u001b[0m\u001b[1;33m(\u001b[0m\u001b[0mx\u001b[0m\u001b[1;33m)\u001b[0m \u001b[1;33m*\u001b[0m \u001b[0mfft\u001b[0m\u001b[1;33m(\u001b[0m\u001b[0my\u001b[0m\u001b[1;33m)\u001b[0m\u001b[1;33m.\u001b[0m\u001b[0mconj\u001b[0m\u001b[1;33m(\u001b[0m\u001b[1;33m)\u001b[0m\u001b[1;33m)\u001b[0m\u001b[1;33m.\u001b[0m\u001b[0mreal\u001b[0m\u001b[1;33m\u001b[0m\u001b[0m\n\u001b[0m\u001b[0;32m    139\u001b[0m \u001b[1;33m\u001b[0m\u001b[0m\n\u001b[0;32m    140\u001b[0m     \u001b[1;32mdef\u001b[0m \u001b[0mcircconv\u001b[0m\u001b[1;33m(\u001b[0m\u001b[0mself\u001b[0m\u001b[1;33m,\u001b[0m \u001b[0ma\u001b[0m\u001b[1;33m,\u001b[0m \u001b[0mb\u001b[0m\u001b[1;33m)\u001b[0m\u001b[1;33m:\u001b[0m\u001b[1;33m\u001b[0m\u001b[0m\n",
      "\u001b[1;32m/home/igor/dev/nengo_venv/local/lib/python2.7/site-packages/numpy-1.11.0-py2.7-linux-x86_64.egg/numpy/fft/fftpack.pyc\u001b[0m in \u001b[0;36mfft\u001b[1;34m(a, n, axis, norm)\u001b[0m\n\u001b[0;32m    184\u001b[0m     \"\"\"\n\u001b[0;32m    185\u001b[0m \u001b[1;33m\u001b[0m\u001b[0m\n\u001b[1;32m--> 186\u001b[1;33m     \u001b[0ma\u001b[0m \u001b[1;33m=\u001b[0m \u001b[0masarray\u001b[0m\u001b[1;33m(\u001b[0m\u001b[0ma\u001b[0m\u001b[1;33m)\u001b[0m\u001b[1;33m.\u001b[0m\u001b[0mastype\u001b[0m\u001b[1;33m(\u001b[0m\u001b[0mcomplex\u001b[0m\u001b[1;33m,\u001b[0m \u001b[0mcopy\u001b[0m\u001b[1;33m=\u001b[0m\u001b[0mFalse\u001b[0m\u001b[1;33m)\u001b[0m\u001b[1;33m\u001b[0m\u001b[0m\n\u001b[0m\u001b[0;32m    187\u001b[0m     \u001b[1;32mif\u001b[0m \u001b[0mn\u001b[0m \u001b[1;32mis\u001b[0m \u001b[0mNone\u001b[0m\u001b[1;33m:\u001b[0m\u001b[1;33m\u001b[0m\u001b[0m\n\u001b[0;32m    188\u001b[0m         \u001b[0mn\u001b[0m \u001b[1;33m=\u001b[0m \u001b[0ma\u001b[0m\u001b[1;33m.\u001b[0m\u001b[0mshape\u001b[0m\u001b[1;33m[\u001b[0m\u001b[0maxis\u001b[0m\u001b[1;33m]\u001b[0m\u001b[1;33m\u001b[0m\u001b[0m\n",
      "\u001b[1;31mAttributeError\u001b[0m: HRR instance has no attribute '__float__'"
     ]
    }
   ],
   "source": [
    "HRR.reset_kernel()\n",
    "HRR.default_size = 40\n",
    "w = HRR(5) * HRR(\"color\") * HRR(\"blue\") + \\\n",
    "HRR(5) * HRR(\"name\") * HRR(\"sky\") + \\\n",
    "HRR(4) * HRR(\"name\") * HRR(\"car\") + \\\n",
    "HRR(5) * HRR(\"name\") * HRR(\"earth\")\n",
    "\n",
    "t = w % 5\n",
    "u = HRR('t', memory = t) / \"name\"\n",
    "print('Before forgeting: {}'.format(u))\n",
    "\n",
    "to_sub = HRR(5) * HRR(\"name\") * HRR(\"sky\")\n",
    "w -= to_sub\n",
    "\n",
    "t = w % 5\n",
    "u = HRR('t', memory = t) / \"name\"\n",
    "print('After forgeting: {}'.format(u))"
   ]
  },
  {
   "cell_type": "markdown",
   "metadata": {},
   "source": [
    "Playing around with gaussian"
   ]
  },
  {
   "cell_type": "code",
   "execution_count": 12,
   "metadata": {
    "collapsed": false
   },
   "outputs": [
    {
     "name": "stdout",
     "output_type": "stream",
     "text": [
      "[2.8913106903228875e-06, 0.00028516790670049768, 0.010138976449967543, 0.12994966429806148, 0.60040429522850536, 1.0, 0.60040429522850536, 0.12994966429806148, 0.010138976449967543, 0.00028516790670049768]\n"
     ]
    }
   ],
   "source": [
    "def gaussian(x, mu, sig):\n",
    "    return np.exp(-np.power(x - mu, 2.) / (2 * np.power(sig, 2.)))\n",
    "x = [0] * 10\n",
    "for i in range (0,10):\n",
    "    x[i] = gaussian(i,5,0.99)\n",
    "print(x)"
   ]
  },
  {
   "cell_type": "markdown",
   "metadata": {},
   "source": [
    "Semantic encoding example for strings\n",
    "================\n",
    "\n",
    "Subtitle\n",
    "------\n",
    "\n",
    "Paragraph"
   ]
  },
  {
   "cell_type": "code",
   "execution_count": 11,
   "metadata": {
    "collapsed": false
   },
   "outputs": [
    {
     "name": "stdout",
     "output_type": "stream",
     "text": [
      "<type 'str'>\n",
      "<type 'str'>\n",
      "<type 'str'>\n",
      "<type 'str'>\n",
      "<type 'str'>\n",
      "<type 'str'>\n",
      "<type 'str'>\n",
      "<type 'str'>\n",
      "<type 'str'>\n",
      "<type 'str'>\n",
      "Distance from blue is -0.063414292201\n",
      "Distance from brown is 0.295832967387\n",
      "Distance from door is -0.265503139814\n",
      "Distance from car is 0.00343105325481\n",
      "Distance from laptop is -0.226218892887\n",
      "Distance from tree is -0.0755712861921\n",
      "Distance from PC is -0.238216635759\n",
      "Distance from computer is -0.366313290292\n",
      "Distance from green is -0.131973807971\n",
      "Distance from table is -0.00693286462611\n",
      "Distance from white is 0.369220826412\n",
      "Distance from red is 0.103119906096\n",
      "white\n",
      "Distance from blue is -0.0163911824027\n",
      "Distance from brown is 0.285959215321\n",
      "Distance from door is -0.236706750222\n",
      "Distance from car is 0.0479927556584\n",
      "Distance from laptop is -0.232296906769\n",
      "Distance from tree is -0.141679799234\n",
      "Distance from PC is -0.232716439956\n",
      "Distance from computer is -0.340600861163\n",
      "Distance from green is -0.199814763638\n",
      "Distance from table is -0.118429265768\n",
      "Distance from white is 0.438544467103\n",
      "Distance from red is 0.203772403565\n",
      "white\n",
      "Distance from blue is -0.117672316275\n",
      "Distance from brown is 0.180137189539\n",
      "Distance from door is -0.158476576497\n",
      "Distance from car is -0.00828964546118\n",
      "Distance from laptop is -0.303004086305\n",
      "Distance from tree is -0.100040362942\n",
      "Distance from PC is -0.335238285858\n",
      "Distance from computer is -0.424605367111\n",
      "Distance from green is -0.235700769551\n",
      "Distance from table is -0.067648732677\n",
      "Distance from white is 0.457684303816\n",
      "Distance from red is 0.139474596858\n",
      "white\n"
     ]
    }
   ],
   "source": [
    "import numpy as np\n",
    "HRR.reset_kernel()\n",
    "HRR.default_size = 50\n",
    "\n",
    "items = [ \"door\", \"tree\", \"car\", \"table\", \"computer\" ]\n",
    "colors = [ \"blue\", \"green\", \"red\", \"brown\", \"white\" ]\n",
    "\n",
    "m = None\n",
    "for i in range(len(items)):\n",
    "    if m is None:\n",
    "        m = HRR(items[i]) * colors[i]\n",
    "    else:\n",
    "        new_item = HRR(items[i]) * colors[i]\n",
    "        m += new_item\n",
    "  \n",
    "e = np.array(HRR.mapping[\"computer\"])\n",
    "\n",
    "e += np.random.uniform(-0.2,0.15, 50)\n",
    " \n",
    "HRR.mapping[\"PC\"] = np.array(e)\n",
    "\n",
    "e += np.random.uniform(-0.2,0.15, 50)\n",
    "\n",
    "#for i in range(6):\n",
    "#    if (random.uniform(0,10) > 8):\n",
    "#        f[i] += random.uniform(-0.15,0.15)\n",
    " \n",
    "HRR.mapping[\"laptop\"] = e\n",
    "\n",
    "print(m / \"PC\")\n",
    "print(m / \"laptop\")\n",
    "print(m / \"computer\")"
   ]
  },
  {
   "cell_type": "markdown",
   "metadata": {
    "collapsed": true
   },
   "source": [
    "Scalar Encoder\n",
    "======\n",
    "\n",
    "Scaling Values\n",
    "-------\n",
    "\n",
    "Here we see how scaling a value in any range to 0 - 100 looks like."
   ]
  },
  {
   "cell_type": "code",
   "execution_count": 2,
   "metadata": {
    "collapsed": false
   },
   "outputs": [
    {
     "name": "stdout",
     "output_type": "stream",
     "text": [
      "[-500, 500]\n",
      "[-500, 500]\n",
      "25.0\n",
      "60.0\n",
      "95.0\n",
      "12.5\n"
     ]
    }
   ],
   "source": [
    "from hrr import HRR\n",
    "HRR.reset_kernel()\n",
    "print(HRR.input_range)\n",
    "HRR.input_range = [-500,500]\n",
    "print(HRR.input_range)\n",
    "print(HRR.scale(-250,100))\n",
    "print(HRR.scale(100,100))\n",
    "print(HRR.scale(450,100))\n",
    "print(HRR.scale(-375,100))"
   ]
  },
  {
   "cell_type": "markdown",
   "metadata": {
    "collapsed": true
   },
   "source": [
    "In the following example we see how the gaussian mapping of scalar inputs over a range makes it possible to reach the same result with inputs that are just close to their actual input value."
   ]
  },
  {
   "cell_type": "code",
   "execution_count": 9,
   "metadata": {
    "collapsed": false
   },
   "outputs": [
    {
     "name": "stdout",
     "output_type": "stream",
     "text": [
      "Distance from door is -0.0100284284988\n",
      "Distance from tree is 0.0270892649772\n",
      "{11: 1, 20: 1}\n",
      "Distance from door is 0.306922152324\n",
      "Distance from tree is -0.0877631779485\n",
      "{'door': 0.30692215232440889}\n"
     ]
    }
   ],
   "source": [
    "from hrr import HRR\n",
    "%matplotlib inline \n",
    "HRR.set_size(10000)\n",
    "HRR.reset_kernel()\n",
    "HRR.input_range = [0,100]\n",
    "HRR.verbose = True\n",
    "HRR.visualize = False\n",
    "\n",
    "items = [ \"tree\", \"tree\", \"door\" ]\n",
    "scalars = [20 , 10, 80]\n",
    "\n",
    "m = None\n",
    "for i in range(len(items)):\n",
    "    if m is None:\n",
    "        m = HRR(items[i]) * scalars[i]\n",
    "    else:\n",
    "        new_item = HRR(items[i]) * scalars[i]\n",
    "        m += new_item\n",
    "            \n",
    "#print(m / 0)\n",
    "#print(m / 49)\n",
    "#print(m / 83)\n",
    "print(m / \"tree\")\n",
    "print(m / 77)"
   ]
  },
  {
   "cell_type": "markdown",
   "metadata": {},
   "source": [
    "Coordinate Encoder\n",
    "==================\n",
    "\n",
    "Here's what the encoded gaussian of a 2-D coordinate looks like."
   ]
  },
  {
   "cell_type": "code",
   "execution_count": 5,
   "metadata": {
    "collapsed": false
   },
   "outputs": [
    {
     "name": "stdout",
     "output_type": "stream",
     "text": [
      "First dimension:\n"
     ]
    },
    {
     "data": {
      "image/png": "[encoded data removed]",
      "text/plain": [
       "<matplotlib.figure.Figure at 0x7f5d555571d0>"
      ]
     },
     "metadata": {},
     "output_type": "display_data"
    },
    {
     "data": {
      "image/png": "[encoded data removed]",
      "text/plain": [
       "<matplotlib.figure.Figure at 0x7f5d555a6350>"
      ]
     },
     "metadata": {},
     "output_type": "display_data"
    },
    {
     "data": {
      "image/png": "[encoded data removed]",
      "text/plain": [
       "<matplotlib.figure.Figure at 0x7f5d758ca790>"
      ]
     },
     "metadata": {},
     "output_type": "display_data"
    },
    {
     "name": "stdout",
     "output_type": "stream",
     "text": [
      "('Dimension ', 2)\n"
     ]
    },
    {
     "data": {
      "image/png": "[encoded data removed]",
      "text/plain": [
       "<matplotlib.figure.Figure at 0x7f5d556d4610>"
      ]
     },
     "metadata": {},
     "output_type": "display_data"
    },
    {
     "data": {
      "image/png": "[encoded data removed]",
      "text/plain": [
       "<matplotlib.figure.Figure at 0x7f5d5570c550>"
      ]
     },
     "metadata": {},
     "output_type": "display_data"
    },
    {
     "data": {
      "image/png": "[encoded data removed]",
      "text/plain": [
       "<matplotlib.figure.Figure at 0x7f5d553e9f50>"
      ]
     },
     "metadata": {},
     "output_type": "display_data"
    },
    {
     "name": "stdout",
     "output_type": "stream",
     "text": [
      "('Dimension ', 3)\n"
     ]
    },
    {
     "data": {
      "image/png": "[encoded data removed]",
      "text/plain": [
       "<matplotlib.figure.Figure at 0x7f5d55342e50>"
      ]
     },
     "metadata": {},
     "output_type": "display_data"
    },
    {
     "data": {
      "image/png": "[encoded data removed]",
      "text/plain": [
       "<matplotlib.figure.Figure at 0x7f5d54afe3d0>"
      ]
     },
     "metadata": {},
     "output_type": "display_data"
    },
    {
     "data": {
      "image/png": "[encoded data removed]",
      "text/plain": [
       "<matplotlib.figure.Figure at 0x7f5d54a7e910>"
      ]
     },
     "metadata": {},
     "output_type": "display_data"
    },
    {
     "name": "stdout",
     "output_type": "stream",
     "text": [
      "('Encoded ', (4, 9, 5))\n"
     ]
    },
    {
     "data": {
      "image/png": "[encoded data removed]",
      "text/plain": [
       "<matplotlib.figure.Figure at 0x7f5d556d4710>"
      ]
     },
     "metadata": {},
     "output_type": "display_data"
    }
   ],
   "source": [
    "from hrr import HRR\n",
    "%matplotlib inline \n",
    "HRR.set_size(1000000)\n",
    "HRR.reset_kernel()\n",
    "HRR.visualize = True\n",
    "HRR.stddev = 0.02\n",
    "\n",
    "m = HRR((4,9,5),valid_range=(([0,10],[0,10],[0,10])))"
   ]
  },
  {
   "cell_type": "code",
   "execution_count": null,
   "metadata": {
    "collapsed": true
   },
   "outputs": [],
   "source": []
  },
  {
   "cell_type": "markdown",
   "metadata": {
    "collapsed": false
   },
   "source": [
    "Binding Capacity Experiment\n",
    "==================\n",
    "\n",
    "Maximum number of perfectly accurate bindings.\n",
    "------------------\n",
    "\n",
    "Experiment to detect the number of maximum bindings that can be added on top of each other, depending on vector length."
   ]
  },
  {
   "cell_type": "code",
   "execution_count": 1,
   "metadata": {
    "collapsed": false
   },
   "outputs": [
    {
     "name": "stderr",
     "output_type": "stream",
     "text": [
      "/disk/users/lesi/HBP/local/lib/python2.7/site-packages/matplotlib/font_manager.py:273: UserWarning: Matplotlib is building the font cache using fc-list. This may take a moment.\n",
      "  warnings.warn('Matplotlib is building the font cache using fc-list. This may take a moment.')\n",
      "hrr.py:48: FutureWarning: comparison to `None` will result in an elementwise object comparison in the future.\n",
      "  if memory != None:\n"
     ]
    },
    {
     "name": "stdout",
     "output_type": "stream",
     "text": [
      "('RESULT', 2048, 35)\n",
      "34\n",
      "33\n",
      "32\n",
      "31\n",
      "30\n",
      "29\n",
      "28\n",
      "27\n",
      "26\n",
      "25\n",
      "24\n",
      "23\n",
      "22\n",
      "21\n",
      "20\n",
      "19\n",
      "('RESULT', 1024, 19)\n",
      "18\n",
      "17\n",
      "16\n",
      "15\n",
      "14\n",
      "13\n",
      "12\n",
      "11\n",
      "('RESULT', 512, 11)\n",
      "10\n",
      "9\n",
      "8\n",
      "7\n",
      "6\n",
      "5\n",
      "4\n",
      "('RESULT', 256, 4)\n",
      "3\n",
      "2\n",
      "('RESULT', 128, 2)\n"
     ]
    }
   ],
   "source": [
    "import numpy as np\n",
    "import random\n",
    "import string\n",
    "from hrr import HRR\n",
    "\n",
    "HRR.reset_kernel()\n",
    "HRR.verbose = False\n",
    "\n",
    "it = 50\n",
    "HRR.set_size(2048)\n",
    "maxb = 35\n",
    "\n",
    "while(maxb > 2):\n",
    "\n",
    "    good = False\n",
    "    while not good:\n",
    "        \n",
    "        good = True\n",
    "        iterate = 0\n",
    "        while (iterate < it and good):\n",
    "\n",
    "            x = np.empty((maxb,2), dtype='|S20')\n",
    "            for i in range (maxb):\n",
    "                for j in range(2):\n",
    "                    x[i][j] = ''.join(random.choice(string.ascii_uppercase + string.digits) for _ in range(10))\n",
    "\n",
    "            m = None\n",
    "            for i in range(maxb):\n",
    "                if m is None:\n",
    "                    m = HRR(x[i][0]) * x[i][1]\n",
    "                else:\n",
    "                    new_item = HRR(x[i][0]) * x[i][1]\n",
    "                    m += new_item   \n",
    "                    \n",
    "            i = 0\n",
    "            while (i < maxb and good):\n",
    "                if ((m / x[i][0]) != x[i][1] or (m / x[i][1]) != x[i][0]):\n",
    "                    good = False               \n",
    "                i = i + 1\n",
    "\n",
    "            iterate = iterate + 1\n",
    "    \n",
    "        if not good: \n",
    "            maxb = maxb - 1\n",
    "            print(maxb)\n",
    "        else:\n",
    "            print(\"RESULT\",HRR.size,maxb)\n",
    "            HRR.reset_kernel()\n",
    "            HRR.set_size(HRR.size/2)\n"
   ]
  },
  {
   "cell_type": "markdown",
   "metadata": {},
   "source": [
    "Correct Percentage in Range\n",
    "----------------------\n",
    "Experiment to detect what correctness percentage different vector sizes have for different numbers of added bindings."
   ]
  },
  {
   "cell_type": "code",
   "execution_count": 1,
   "metadata": {
    "collapsed": false
   },
   "outputs": [
    {
     "name": "stderr",
     "output_type": "stream",
     "text": [
      "/disk/users/lesi/HBP/local/lib/python2.7/site-packages/matplotlib/font_manager.py:273: UserWarning: Matplotlib is building the font cache using fc-list. This may take a moment.\n",
      "  warnings.warn('Matplotlib is building the font cache using fc-list. This may take a moment.')\n"
     ]
    },
    {
     "name": "stdout",
     "output_type": "stream",
     "text": [
      "running\n",
      "(128, 0, 1.0)\n",
      "(256, 0, 1.0)\n",
      "(512, 0, 1.0)\n",
      "(1024, 0, 1.0)\n",
      "(2048, 0, 1.0)\n",
      "(4096, 0, 1.0)\n",
      "(8192, 0, 1.0)\n",
      "(128, 1, 1.0)\n",
      "(256, 1, 1.0)\n",
      "(512, 1, 1.0)\n",
      "(1024, 1, 1.0)\n",
      "(2048, 1, 1.0)\n",
      "(4096, 1, 1.0)\n"
     ]
    },
    {
     "name": "stderr",
     "output_type": "stream",
     "text": [
      "hrr.py:176: FutureWarning: comparison to `None` will result in an elementwise object comparison in the future.\n",
      "  if memory == None:\n",
      "vsa.py:63: FutureWarning: comparison to `None` will result in an elementwise object comparison in the future.\n",
      "  if memory == None:\n"
     ]
    },
    {
     "name": "stdout",
     "output_type": "stream",
     "text": [
      "(8192, 1, 1.0)\n",
      "(128, 2, 1.0)\n",
      "(256, 2, 0.86363636363636365)\n",
      "(512, 2, 1.0)\n",
      "(1024, 2, 1.0)\n",
      "(2048, 2, 1.0)\n",
      "(4096, 2, 1.0)\n",
      "(8192, 2, 1.0)\n",
      "(128, 3, 0.75757575757575757)\n",
      "(256, 3, 0.93939393939393945)\n",
      "(512, 3, 1.0)\n",
      "(1024, 3, 1.0)\n",
      "(2048, 3, 1.0)\n",
      "(4096, 3, 1.0)\n",
      "(8192, 3, 1.0)\n",
      "(128, 4, 0.81818181818181812)\n",
      "(256, 4, 0.97727272727272729)\n",
      "(512, 4, 1.0)\n",
      "(1024, 4, 1.0)\n",
      "(2048, 4, 1.0)\n",
      "(4096, 4, 1.0)\n",
      "(8192, 4, 1.0)\n",
      "(128, 5, 0.69090909090909092)\n",
      "(256, 5, 0.96363636363636362)\n",
      "(512, 5, 1.0)\n",
      "(1024, 5, 1.0)\n",
      "(2048, 5, 1.0)\n",
      "(4096, 5, 1.0)\n",
      "(8192, 5, 1.0)\n",
      "(128, 6, 0.74242424242424243)\n",
      "(256, 6, 0.93939393939393945)\n",
      "(512, 6, 1.0)\n",
      "(1024, 6, 1.0)\n",
      "(2048, 6, 1.0)\n",
      "(4096, 6, 1.0)\n",
      "(8192, 6, 1.0)\n",
      "(128, 7, 0.59740259740259738)\n",
      "(256, 7, 0.90909090909090906)\n",
      "(512, 7, 1.0)\n",
      "(1024, 7, 1.0)\n",
      "(2048, 7, 1.0)\n",
      "(4096, 7, 1.0)\n",
      "(8192, 7, 1.0)\n",
      "(128, 8, 0.44318181818181823)\n",
      "(256, 8, 0.94318181818181823)\n",
      "(512, 8, 1.0)\n",
      "(1024, 8, 1.0)\n",
      "(2048, 8, 1.0)\n",
      "(4096, 8, 1.0)\n",
      "(8192, 8, 1.0)\n",
      "(128, 9, 0.4747474747474747)\n",
      "(256, 9, 0.91919191919191923)\n",
      "(512, 9, 1.0)\n",
      "(1024, 9, 1.0)\n",
      "(2048, 9, 1.0)\n",
      "(4096, 9, 1.0)\n",
      "(8192, 9, 1.0)\n",
      "(128, 10, 0.41818181818181821)\n",
      "(256, 10, 0.91818181818181821)\n",
      "(512, 10, 1.0)\n",
      "(1024, 10, 1.0)\n",
      "(2048, 10, 1.0)\n",
      "(4096, 10, 1.0)\n",
      "(8192, 10, 1.0)\n",
      "(128, 11, 0.42975206611570249)\n",
      "(256, 11, 0.90909090909090906)\n",
      "(512, 11, 0.98347107438016534)\n",
      "(1024, 11, 1.0)\n",
      "(2048, 11, 1.0)\n",
      "(4096, 11, 1.0)\n",
      "(8192, 11, 1.0)\n",
      "(128, 12, 0.40151515151515149)\n",
      "(256, 12, 0.89393939393939392)\n",
      "(512, 12, 1.0)\n",
      "(1024, 12, 1.0)\n",
      "(2048, 12, 1.0)\n",
      "(4096, 12, 1.0)\n",
      "(8192, 12, 1.0)\n",
      "(128, 13, 0.35664335664335667)\n",
      "(256, 13, 0.88111888111888115)\n",
      "(512, 13, 0.95804195804195802)\n",
      "(1024, 13, 1.0)\n",
      "(2048, 13, 1.0)\n",
      "(4096, 13, 1.0)\n",
      "(8192, 13, 1.0)\n",
      "(128, 14, 0.33116883116883122)\n",
      "(256, 14, 0.82467532467532467)\n",
      "(512, 14, 0.98701298701298701)\n",
      "(1024, 14, 0.98701298701298701)\n",
      "(2048, 14, 0.99350649350649356)\n",
      "(4096, 14, 1.0)\n",
      "(8192, 14, 1.0)\n",
      "(128, 15, 0.26666666666666672)\n",
      "(256, 15, 0.75757575757575757)\n",
      "(512, 15, 0.95151515151515154)\n",
      "(1024, 15, 0.98787878787878791)\n",
      "(2048, 15, 1.0)\n",
      "(4096, 15, 1.0)\n",
      "(8192, 15, 1.0)\n",
      "(128, 16, 0.26136363636363635)\n",
      "(256, 16, 0.79545454545454541)\n",
      "(512, 16, 0.89772727272727271)\n",
      "(1024, 16, 0.97159090909090906)\n",
      "(2048, 16, 1.0)\n",
      "(4096, 16, 1.0)\n",
      "(8192, 16, 1.0)\n",
      "(128, 17, 0.27807486631016043)\n",
      "(256, 17, 0.73262032085561501)\n",
      "(512, 17, 0.89839572192513373)\n",
      "(1024, 17, 0.946524064171123)\n",
      "(2048, 17, 0.9732620320855615)\n",
      "(4096, 17, 1.0)\n",
      "(8192, 17, 1.0)\n",
      "(128, 18, 0.27272727272727271)\n",
      "(256, 18, 0.72727272727272729)\n",
      "(512, 18, 0.84848484848484851)\n",
      "(1024, 18, 0.91919191919191923)\n",
      "(2048, 18, 0.94444444444444442)\n",
      "(4096, 18, 0.98484848484848486)\n",
      "(8192, 18, 1.0)\n",
      "(128, 19, 0.22966507177033491)\n",
      "(256, 19, 0.71770334928229662)\n",
      "(512, 19, 0.74641148325358853)\n",
      "(1024, 19, 0.85167464114832536)\n",
      "(2048, 19, 0.95215311004784686)\n",
      "(4096, 19, 0.98086124401913877)\n",
      "(8192, 19, 1.0)\n"
     ]
    },
    {
     "data": {
      "image/png": "[encoded data removed]",
      "text/plain": [
       "<matplotlib.figure.Figure at 0x7fe7a435bb10>"
      ]
     },
     "metadata": {},
     "output_type": "display_data"
    }
   ],
   "source": [
    "import numpy as np\n",
    "import random\n",
    "import string\n",
    "import pickle\n",
    "from hrr import HRR\n",
    "%matplotlib inline \n",
    "import legend\n",
    "\n",
    "HRR.reset_kernel()\n",
    "\n",
    "it = 10\n",
    "steps = 7\n",
    "maxb = 20\n",
    "first_size = 128\n",
    "results = np.empty((steps,maxb+1), dtype=float)\n",
    "for i in range(steps):\n",
    "    results[i][0] = 1;\n",
    "\n",
    "print(\"running\")\n",
    "\n",
    "for bindings in range(maxb):\n",
    "    HRR.set_size(first_size)\n",
    "    for step in range(steps):\n",
    "\n",
    "        miss = 0\n",
    "        \n",
    "        for iterate in range(it):\n",
    "            \n",
    "\n",
    "            x = np.empty((bindings,2), dtype='|S20')\n",
    "            for i in range (bindings):\n",
    "                for j in range(2):\n",
    "                    x[i][j] = ''.join(random.choice(string.ascii_uppercase + string.digits) for _ in range(10))\n",
    "\n",
    "            m = None       \n",
    "            for i in range(bindings):\n",
    "                if m is None:\n",
    "                    m = HRR(x[i][0]) * x[i][1]\n",
    "                else:\n",
    "                    new_item = HRR(x[i][0]) * x[i][1]\n",
    "                    m += new_item   \n",
    "                    \n",
    "            for i in range(bindings):\n",
    "                fault = False\n",
    "                for e in m / x[i][0]:\n",
    "                    if (e[0] == x[i][1]):\n",
    "                        if (e[1] < HRR.distance_threshold):\n",
    "                            fault = True\n",
    "                    elif(e[1] >= HRR.distance_threshold):\n",
    "                        fault = True\n",
    "                if fault:\n",
    "                    miss += 1\n",
    "\n",
    "        results[step][bindings+1] = 1.0 - (float(miss) / ((it + 1) * (bindings + 1)))\n",
    "        print(HRR.size,bindings,results[step][bindings])\n",
    "        HRR.reset_kernel()\n",
    "        HRR.set_size(HRR.size*2)\n",
    "        \n",
    "legend.getLegend(results,first_size)"
   ]
  },
  {
   "cell_type": "markdown",
   "metadata": {},
   "source": [
    "Triplet Binding Capacity\n",
    "=============================\n",
    "Maximum number of perfectly accurate triplet bindings \n",
    "--------------------------\n",
    "Experiment to detect the number of maximum bindings that can be added on top of each other, depending on vector length."
   ]
  },
  {
   "cell_type": "code",
   "execution_count": 1,
   "metadata": {
    "collapsed": false
   },
   "outputs": [
    {
     "name": "stderr",
     "output_type": "stream",
     "text": [
      "/disk/users/lesi/HBP/local/lib/python2.7/site-packages/matplotlib/font_manager.py:273: UserWarning: Matplotlib is building the font cache using fc-list. This may take a moment.\n",
      "  warnings.warn('Matplotlib is building the font cache using fc-list. This may take a moment.')\n",
      "hrr.py:48: FutureWarning: comparison to `None` will result in an elementwise object comparison in the future.\n",
      "  if memory != None:\n"
     ]
    },
    {
     "name": "stdout",
     "output_type": "stream",
     "text": [
      "49\n",
      "48\n",
      "47\n",
      "46\n",
      "45\n",
      "44\n",
      "43\n",
      "42\n",
      "41\n",
      "40\n",
      "39\n",
      "38\n",
      "37\n",
      "36\n",
      "35\n",
      "34\n",
      "33\n"
     ]
    },
    {
     "ename": "KeyboardInterrupt",
     "evalue": "",
     "output_type": "error",
     "traceback": [
      "\u001b[1;31m---------------------------------------------------------------------------\u001b[0m",
      "\u001b[1;31mKeyboardInterrupt\u001b[0m                         Traceback (most recent call last)",
      "\u001b[1;32m<ipython-input-1-d743bf6f13dd>\u001b[0m in \u001b[0;36m<module>\u001b[1;34m()\u001b[0m\n\u001b[0;32m     35\u001b[0m             \u001b[0mi\u001b[0m \u001b[1;33m=\u001b[0m \u001b[1;36m0\u001b[0m\u001b[1;33m\u001b[0m\u001b[0m\n\u001b[0;32m     36\u001b[0m             \u001b[1;32mwhile\u001b[0m \u001b[1;33m(\u001b[0m\u001b[0mi\u001b[0m \u001b[1;33m<\u001b[0m \u001b[0mmaxb\u001b[0m \u001b[1;32mand\u001b[0m \u001b[0mgood\u001b[0m\u001b[1;33m)\u001b[0m\u001b[1;33m:\u001b[0m\u001b[1;33m\u001b[0m\u001b[0m\n\u001b[1;32m---> 37\u001b[1;33m                 if ((m % x[i][0] / x[i][1]) != x[i][2] \n\u001b[0m\u001b[0;32m     38\u001b[0m                 \u001b[1;32mor\u001b[0m \u001b[1;33m(\u001b[0m\u001b[0mm\u001b[0m \u001b[1;33m%\u001b[0m \u001b[0mx\u001b[0m\u001b[1;33m[\u001b[0m\u001b[0mi\u001b[0m\u001b[1;33m]\u001b[0m\u001b[1;33m[\u001b[0m\u001b[1;36m0\u001b[0m\u001b[1;33m]\u001b[0m \u001b[1;33m/\u001b[0m \u001b[0mx\u001b[0m\u001b[1;33m[\u001b[0m\u001b[0mi\u001b[0m\u001b[1;33m]\u001b[0m\u001b[1;33m[\u001b[0m\u001b[1;36m2\u001b[0m\u001b[1;33m]\u001b[0m\u001b[1;33m)\u001b[0m \u001b[1;33m!=\u001b[0m \u001b[0mx\u001b[0m\u001b[1;33m[\u001b[0m\u001b[0mi\u001b[0m\u001b[1;33m]\u001b[0m\u001b[1;33m[\u001b[0m\u001b[1;36m1\u001b[0m\u001b[1;33m]\u001b[0m\u001b[1;33m\u001b[0m\u001b[0m\n\u001b[0;32m     39\u001b[0m                 \u001b[1;32mor\u001b[0m \u001b[1;33m(\u001b[0m\u001b[0mm\u001b[0m \u001b[1;33m%\u001b[0m \u001b[0mx\u001b[0m\u001b[1;33m[\u001b[0m\u001b[0mi\u001b[0m\u001b[1;33m]\u001b[0m\u001b[1;33m[\u001b[0m\u001b[1;36m1\u001b[0m\u001b[1;33m]\u001b[0m \u001b[1;33m/\u001b[0m \u001b[0mx\u001b[0m\u001b[1;33m[\u001b[0m\u001b[0mi\u001b[0m\u001b[1;33m]\u001b[0m\u001b[1;33m[\u001b[0m\u001b[1;36m0\u001b[0m\u001b[1;33m]\u001b[0m\u001b[1;33m)\u001b[0m \u001b[1;33m!=\u001b[0m \u001b[0mx\u001b[0m\u001b[1;33m[\u001b[0m\u001b[0mi\u001b[0m\u001b[1;33m]\u001b[0m\u001b[1;33m[\u001b[0m\u001b[1;36m2\u001b[0m\u001b[1;33m]\u001b[0m\u001b[1;33m\u001b[0m\u001b[0m\n",
      "\u001b[1;32m/disk/users/lesi/dev/hrr/hrr.pyc\u001b[0m in \u001b[0;36m__div__\u001b[1;34m(self, op)\u001b[0m\n\u001b[0;32m    104\u001b[0m         \u001b[1;32mif\u001b[0m \u001b[0mself\u001b[0m\u001b[1;33m.\u001b[0m\u001b[0mvisualize\u001b[0m\u001b[1;33m:\u001b[0m\u001b[1;33m\u001b[0m\u001b[0m\n\u001b[0;32m    105\u001b[0m             \u001b[1;32mprint\u001b[0m\u001b[1;33m(\u001b[0m\u001b[1;34m\"Output:\"\u001b[0m\u001b[1;33m)\u001b[0m\u001b[1;33m\u001b[0m\u001b[0m\n\u001b[1;32m--> 106\u001b[1;33m             \u001b[0mself\u001b[0m\u001b[1;33m.\u001b[0m\u001b[0mplot\u001b[0m\u001b[1;33m(\u001b[0m\u001b[0mop_dec\u001b[0m\u001b[1;33m)\u001b[0m\u001b[1;33m\u001b[0m\u001b[0m\n\u001b[0m\u001b[0;32m    107\u001b[0m \u001b[1;33m\u001b[0m\u001b[0m\n\u001b[0;32m    108\u001b[0m         \u001b[1;31m# cleanup of noisy result by dictionary lookup\u001b[0m\u001b[1;33m\u001b[0m\u001b[1;33m\u001b[0m\u001b[0m\n",
      "\u001b[1;32m/disk/users/lesi/dev/hrr/hrr.pyc\u001b[0m in \u001b[0;36mdistance\u001b[1;34m(self, one, other)\u001b[0m\n\u001b[0;32m    230\u001b[0m         \u001b[1;31m#self.plot(self.normalize(np.real(ifft(fft(a)*fft(b)))))\u001b[0m\u001b[1;33m\u001b[0m\u001b[1;33m\u001b[0m\u001b[0m\n\u001b[0;32m    231\u001b[0m         \u001b[1;32mreturn\u001b[0m \u001b[0mnp\u001b[0m\u001b[1;33m.\u001b[0m\u001b[0mreal\u001b[0m\u001b[1;33m(\u001b[0m\u001b[0mifft\u001b[0m\u001b[1;33m(\u001b[0m\u001b[0mfft\u001b[0m\u001b[1;33m(\u001b[0m\u001b[0ma\u001b[0m\u001b[1;33m)\u001b[0m\u001b[1;33m*\u001b[0m\u001b[0mfft\u001b[0m\u001b[1;33m(\u001b[0m\u001b[0mb\u001b[0m\u001b[1;33m)\u001b[0m\u001b[1;33m)\u001b[0m\u001b[1;33m)\u001b[0m\u001b[1;33m\u001b[0m\u001b[0m\n\u001b[1;32m--> 232\u001b[1;33m \u001b[1;33m\u001b[0m\u001b[0m\n\u001b[0m\u001b[0;32m    233\u001b[0m     \u001b[1;32mdef\u001b[0m \u001b[0mcompare\u001b[0m\u001b[1;33m(\u001b[0m\u001b[0mself\u001b[0m\u001b[1;33m,\u001b[0m\u001b[0mone\u001b[0m\u001b[1;33m,\u001b[0m \u001b[0mother\u001b[0m\u001b[1;33m)\u001b[0m\u001b[1;33m:\u001b[0m \u001b[1;31m# other is nparray\u001b[0m\u001b[1;33m\u001b[0m\u001b[0m\n\u001b[0;32m    234\u001b[0m         \u001b[0mscale\u001b[0m\u001b[1;33m=\u001b[0m\u001b[0mnorm\u001b[0m\u001b[1;33m(\u001b[0m\u001b[0mone\u001b[0m\u001b[1;33m)\u001b[0m\u001b[1;33m*\u001b[0m\u001b[0mnorm\u001b[0m\u001b[1;33m(\u001b[0m\u001b[0mother\u001b[0m\u001b[1;33m)\u001b[0m\u001b[1;33m\u001b[0m\u001b[0m\n",
      "\u001b[1;32m/disk/users/lesi/dev/hrr/hrr.pyc\u001b[0m in \u001b[0;36mcompare\u001b[1;34m(self, one, other)\u001b[0m\n\u001b[0;32m    225\u001b[0m         \u001b[1;31m#self.plot2(fft(b))\u001b[0m\u001b[1;33m\u001b[0m\u001b[1;33m\u001b[0m\u001b[0m\n\u001b[0;32m    226\u001b[0m         \u001b[1;31m#print(\"FFT 2:\")\u001b[0m\u001b[1;33m\u001b[0m\u001b[1;33m\u001b[0m\u001b[0m\n\u001b[1;32m--> 227\u001b[1;33m         \u001b[1;31m#self.plot(fft(b))\u001b[0m\u001b[1;33m\u001b[0m\u001b[1;33m\u001b[0m\u001b[0m\n\u001b[0m\u001b[0;32m    228\u001b[0m         \u001b[1;31m#self.plot2(fft(b))\u001b[0m\u001b[1;33m\u001b[0m\u001b[1;33m\u001b[0m\u001b[0m\n\u001b[0;32m    229\u001b[0m         \u001b[1;31m#print(\"Mul Result:\")\u001b[0m\u001b[1;33m\u001b[0m\u001b[1;33m\u001b[0m\u001b[0m\n",
      "\u001b[1;32m/disk/users/lesi/HBP/local/lib/python2.7/site-packages/numpy/linalg/linalg.pyc\u001b[0m in \u001b[0;36mnorm\u001b[1;34m(x, ord, axis, keepdims)\u001b[0m\n\u001b[0;32m   2128\u001b[0m             \u001b[1;32melse\u001b[0m\u001b[1;33m:\u001b[0m\u001b[1;33m\u001b[0m\u001b[0m\n\u001b[0;32m   2129\u001b[0m                 \u001b[0msqnorm\u001b[0m \u001b[1;33m=\u001b[0m \u001b[0mdot\u001b[0m\u001b[1;33m(\u001b[0m\u001b[0mx\u001b[0m\u001b[1;33m,\u001b[0m \u001b[0mx\u001b[0m\u001b[1;33m)\u001b[0m\u001b[1;33m\u001b[0m\u001b[0m\n\u001b[1;32m-> 2130\u001b[1;33m             \u001b[0mret\u001b[0m \u001b[1;33m=\u001b[0m \u001b[0msqrt\u001b[0m\u001b[1;33m(\u001b[0m\u001b[0msqnorm\u001b[0m\u001b[1;33m)\u001b[0m\u001b[1;33m\u001b[0m\u001b[0m\n\u001b[0m\u001b[0;32m   2131\u001b[0m             \u001b[1;32mif\u001b[0m \u001b[0mkeepdims\u001b[0m\u001b[1;33m:\u001b[0m\u001b[1;33m\u001b[0m\u001b[0m\n\u001b[0;32m   2132\u001b[0m                 \u001b[0mret\u001b[0m \u001b[1;33m=\u001b[0m \u001b[0mret\u001b[0m\u001b[1;33m.\u001b[0m\u001b[0mreshape\u001b[0m\u001b[1;33m(\u001b[0m\u001b[0mndim\u001b[0m\u001b[1;33m*\u001b[0m\u001b[1;33m[\u001b[0m\u001b[1;36m1\u001b[0m\u001b[1;33m]\u001b[0m\u001b[1;33m)\u001b[0m\u001b[1;33m\u001b[0m\u001b[0m\n",
      "\u001b[1;31mKeyboardInterrupt\u001b[0m: "
     ]
    }
   ],
   "source": [
    "import numpy as np\n",
    "import random\n",
    "import string\n",
    "from hrr import HRR\n",
    "\n",
    "HRR.reset_kernel()\n",
    "HRR.verbose = False\n",
    "\n",
    "it = 50\n",
    "HRR.set_size(2048)\n",
    "maxb = 50\n",
    "\n",
    "while(maxb > 2):\n",
    "\n",
    "    good = False\n",
    "    while not good:\n",
    "        \n",
    "        good = True\n",
    "        iterate = 0\n",
    "        while (iterate < it and good):\n",
    "\n",
    "            x = np.empty((maxb,3), dtype='|S20')\n",
    "            for i in range (maxb):\n",
    "                for j in range(3):\n",
    "                    x[i][j] = ''.join(random.choice(string.ascii_uppercase + string.digits) for _ in range(10))\n",
    "\n",
    "            m = None\n",
    "            for i in range(maxb):\n",
    "                if m is None:\n",
    "                    m = HRR(x[i][0]) * x[i][1] * x[i][2]\n",
    "                else:\n",
    "                    new_item = HRR(x[i][0]) * x[i][1] * x[i][2]\n",
    "                    m += new_item   \n",
    "                    \n",
    "            i = 0\n",
    "            while (i < maxb and good):\n",
    "                if ((m % x[i][0] / x[i][1]) != x[i][2] \n",
    "                or (m % x[i][0] / x[i][2]) != x[i][1] \n",
    "                or (m % x[i][1] / x[i][0]) != x[i][2] \n",
    "                or (m % x[i][1] / x[i][2]) != x[i][0] \n",
    "                or (m % x[i][2] / x[i][0]) != x[i][1] \n",
    "                or (m % x[i][2] / x[i][1]) != x[i][0]):\n",
    "                    good = False               \n",
    "                i = i + 1\n",
    "\n",
    "            iterate = iterate + 1\n",
    "    \n",
    "        if not good: \n",
    "            maxb = maxb - 1\n",
    "            print(maxb)\n",
    "        else:\n",
    "            print(\"RESULT\",HRR.size,maxb)\n",
    "            HRR.reset_kernel()\n",
    "            HRR.set_size(HRR.size/2)\n"
   ]
  },
  {
   "cell_type": "markdown",
   "metadata": {},
   "source": [
    "Correct Percentage in Range\n",
    "-------------------------------\n",
    "Experiment to detect what correctness percentage different vector sizes have for different numbers of added triplet bindings."
   ]
  },
  {
   "cell_type": "code",
   "execution_count": 2,
   "metadata": {
    "collapsed": false
   },
   "outputs": [
    {
     "name": "stdout",
     "output_type": "stream",
     "text": [
      "(128, 0, 1.0)\n",
      "(256, 0, 1.0)\n",
      "(512, 0, 1.0)\n",
      "(1024, 0, 1.0)\n",
      "(2048, 0, 1.0)\n",
      "(128, 1, 1.0)\n",
      "(256, 1, 1.0)\n",
      "(512, 1, 1.0)\n",
      "(1024, 1, 1.0)\n",
      "(2048, 1, 1.0)\n",
      "(128, 2, 1.0)\n",
      "(256, 2, 1.0)\n",
      "(512, 2, 1.0)\n",
      "(1024, 2, 1.0)\n",
      "(2048, 2, 1.0)\n",
      "(128, 3, 0.98529411764705888)\n",
      "(256, 3, 1.0)\n",
      "(512, 3, 1.0)\n",
      "(1024, 3, 1.0)\n",
      "(2048, 3, 1.0)\n",
      "(128, 4, 0.94509803921568625)\n",
      "(256, 4, 1.0)\n",
      "(512, 4, 1.0)\n",
      "(1024, 4, 1.0)\n",
      "(2048, 4, 1.0)\n",
      "(128, 5, 0.94117647058823528)\n",
      "(256, 5, 0.99673202614379086)\n",
      "(512, 5, 1.0)\n",
      "(1024, 5, 1.0)\n",
      "(2048, 5, 1.0)\n",
      "(128, 6, 0.8795518207282913)\n",
      "(256, 6, 0.99439775910364148)\n",
      "(512, 6, 1.0)\n",
      "(1024, 6, 1.0)\n",
      "(2048, 6, 1.0)\n",
      "(128, 7, 0.81127450980392157)\n",
      "(256, 7, 0.98284313725490191)\n",
      "(512, 7, 1.0)\n",
      "(1024, 7, 1.0)\n",
      "(2048, 7, 1.0)\n",
      "(128, 8, 0.75381263616557737)\n",
      "(256, 8, 0.97385620915032678)\n",
      "(512, 8, 1.0)\n",
      "(1024, 8, 1.0)\n",
      "(2048, 8, 1.0)\n",
      "(128, 9, 0.65490196078431373)\n",
      "(256, 9, 0.9509803921568627)\n",
      "(512, 9, 1.0)\n",
      "(1024, 9, 1.0)\n",
      "(2048, 9, 1.0)\n",
      "(128, 10, 0.64527629233511585)\n",
      "(256, 10, 0.92335115864527628)\n",
      "(512, 10, 1.0)\n",
      "(1024, 10, 1.0)\n",
      "(2048, 10, 1.0)\n",
      "(128, 11, 0.53104575163398693)\n",
      "(256, 11, 0.89215686274509798)\n",
      "(512, 11, 1.0)\n",
      "(1024, 11, 1.0)\n",
      "(2048, 11, 1.0)\n",
      "(128, 12, 0.47058823529411764)\n",
      "(256, 12, 0.84313725490196079)\n",
      "(512, 12, 0.99698340874811464)\n",
      "(1024, 12, 1.0)\n",
      "(2048, 12, 1.0)\n",
      "(128, 13, 0.44537815126050417)\n",
      "(256, 13, 0.82773109243697474)\n",
      "(512, 13, 0.99439775910364148)\n",
      "(1024, 13, 1.0)\n",
      "(2048, 13, 1.0)\n",
      "(128, 14, 0.40392156862745099)\n",
      "(256, 14, 0.78169934640522876)\n",
      "(512, 14, 0.98692810457516345)\n",
      "(1024, 14, 1.0)\n",
      "(2048, 14, 1.0)\n",
      "(128, 15, 0.375)\n",
      "(256, 15, 0.73161764705882359)\n",
      "(512, 15, 0.98774509803921573)\n",
      "(1024, 15, 1.0)\n",
      "(2048, 15, 1.0)\n",
      "(128, 16, 0.34602076124567471)\n",
      "(256, 16, 0.71164936562860437)\n",
      "(512, 16, 0.98154555940023069)\n",
      "(1024, 16, 1.0)\n",
      "(2048, 16, 1.0)\n",
      "(128, 17, 0.32570806100217864)\n",
      "(256, 17, 0.64596949891067545)\n",
      "(512, 17, 0.96405228758169936)\n",
      "(1024, 17, 1.0)\n",
      "(2048, 17, 1.0)\n",
      "(128, 18, 0.29721362229102166)\n",
      "(256, 18, 0.60681114551083593)\n",
      "(512, 18, 0.95459236326109387)\n",
      "(1024, 18, 0.9989680082559339)\n",
      "(2048, 18, 1.0)\n",
      "(128, 19, 0.26960784313725494)\n",
      "(256, 19, 0.60392156862745106)\n",
      "(512, 19, 0.92843137254901964)\n",
      "(1024, 19, 0.99901960784313726)\n",
      "(2048, 19, 1.0)\n",
      "(128, 20, 0.24183006535947715)\n",
      "(256, 20, 0.54808590102707755)\n",
      "(512, 20, 0.92063492063492069)\n",
      "(1024, 20, 0.99813258636788049)\n",
      "(2048, 20, 1.0)\n",
      "(128, 21, 0.23885918003565065)\n",
      "(256, 21, 0.53030303030303028)\n",
      "(512, 21, 0.91176470588235292)\n",
      "(1024, 21, 0.99821746880570406)\n",
      "(2048, 21, 1.0)\n",
      "(128, 22, 0.19607843137254899)\n",
      "(256, 22, 0.48934356351236141)\n",
      "(512, 22, 0.8815004262574595)\n",
      "(1024, 22, 0.99658994032395565)\n",
      "(2048, 22, 1.0)\n",
      "(128, 23, 0.22058823529411764)\n",
      "(256, 23, 0.45915032679738566)\n",
      "(512, 23, 0.85049019607843135)\n",
      "(1024, 23, 0.99673202614379086)\n",
      "(2048, 23, 1.0)\n",
      "(128, 24, 0.18745098039215691)\n",
      "(256, 24, 0.45333333333333337)\n",
      "(512, 24, 0.84392156862745105)\n",
      "(1024, 24, 0.99450980392156862)\n",
      "(2048, 24, 1.0)\n"
     ]
    },
    {
     "data": {
      "image/png": "[encoded data removed]",
      "text/plain": [
       "<matplotlib.figure.Figure at 0x7f47fcf4d850>"
      ]
     },
     "metadata": {},
     "output_type": "display_data"
    }
   ],
   "source": [
    "import numpy as np\n",
    "import random\n",
    "import string\n",
    "import pickle\n",
    "from hrr import HRR\n",
    "%matplotlib inline \n",
    "import legend\n",
    "\n",
    "HRR.reset_kernel()\n",
    "HRR.verbose = False\n",
    "\n",
    "it = 50\n",
    "steps = 5\n",
    "maxb = 25\n",
    "first_size = 128\n",
    "results = np.empty((steps,maxb), dtype=float)\n",
    "\n",
    "for bindings in range(maxb):\n",
    "    HRR.set_size(first_size)\n",
    "    for step in range(steps):\n",
    "\n",
    "        miss = 0\n",
    "        \n",
    "        for iterate in range(it):\n",
    "            \n",
    "\n",
    "            x = np.empty((bindings,3), dtype='|S20')\n",
    "            for i in range (bindings):\n",
    "                for j in range(3):\n",
    "                    x[i][j] = ''.join(random.choice(string.ascii_uppercase + string.digits) for _ in range(10))\n",
    "\n",
    "            m = None       \n",
    "            for i in range(bindings):\n",
    "                if m is None:\n",
    "                    m = HRR(x[i][0]) * x[i][1] * x[i][2]\n",
    "                else:\n",
    "                    new_item = HRR(x[i][0]) * x[i][1] * x[i][2]\n",
    "                    m += new_item   \n",
    "                    \n",
    "            for i in range(bindings):\n",
    "                if ((m % x[i][0] / x[i][1]) != x[i][2]):\n",
    "                    miss += 1\n",
    "\n",
    "        results[step][bindings] = 1.0 - (float(miss) / ((it + 1) * (bindings + 1)))\n",
    "        print(HRR.size,bindings,results[step][bindings])\n",
    "        HRR.reset_kernel()\n",
    "        HRR.set_size(HRR.size*2)\n",
    "        \n",
    "legend.getLegend(results,first_size)"
   ]
  },
  {
   "cell_type": "markdown",
   "metadata": {},
   "source": [
    "Scalar Binding Capacity\n",
    "=============================\n",
    "Maximum number of perfectly accurate scalar bindings \n",
    "--------------------------\n",
    "Experiment to detect the number of maximum bindings that can be added on top of each other, depending on vector length.\n"
   ]
  },
  {
   "cell_type": "code",
   "execution_count": 2,
   "metadata": {
    "collapsed": false
   },
   "outputs": [
    {
     "ename": "ValueError",
     "evalue": "could not convert string to float: Z8CYFVEO9P",
     "output_type": "error",
     "traceback": [
      "\u001b[1;31m---------------------------------------------------------------------------\u001b[0m",
      "\u001b[1;31mValueError\u001b[0m                                Traceback (most recent call last)",
      "\u001b[1;32m<ipython-input-2-6739dd2852ba>\u001b[0m in \u001b[0;36m<module>\u001b[1;34m()\u001b[0m\n\u001b[0;32m     23\u001b[0m             \u001b[1;32mfor\u001b[0m \u001b[0mi\u001b[0m \u001b[1;32min\u001b[0m \u001b[0mrange\u001b[0m \u001b[1;33m(\u001b[0m\u001b[0mmaxb\u001b[0m\u001b[1;33m)\u001b[0m\u001b[1;33m:\u001b[0m\u001b[1;33m\u001b[0m\u001b[0m\n\u001b[0;32m     24\u001b[0m                 \u001b[1;32mfor\u001b[0m \u001b[0mj\u001b[0m \u001b[1;32min\u001b[0m \u001b[0mrange\u001b[0m\u001b[1;33m(\u001b[0m\u001b[1;36m2\u001b[0m\u001b[1;33m)\u001b[0m\u001b[1;33m:\u001b[0m\u001b[1;33m\u001b[0m\u001b[0m\n\u001b[1;32m---> 25\u001b[1;33m                     \u001b[0mx\u001b[0m\u001b[1;33m[\u001b[0m\u001b[0mi\u001b[0m\u001b[1;33m]\u001b[0m\u001b[1;33m[\u001b[0m\u001b[0mj\u001b[0m\u001b[1;33m]\u001b[0m \u001b[1;33m=\u001b[0m \u001b[1;34m''\u001b[0m\u001b[1;33m.\u001b[0m\u001b[0mjoin\u001b[0m\u001b[1;33m(\u001b[0m\u001b[0mrandom\u001b[0m\u001b[1;33m.\u001b[0m\u001b[0mchoice\u001b[0m\u001b[1;33m(\u001b[0m\u001b[0mstring\u001b[0m\u001b[1;33m.\u001b[0m\u001b[0mascii_uppercase\u001b[0m \u001b[1;33m+\u001b[0m \u001b[0mstring\u001b[0m\u001b[1;33m.\u001b[0m\u001b[0mdigits\u001b[0m\u001b[1;33m)\u001b[0m \u001b[1;32mfor\u001b[0m \u001b[0m_\u001b[0m \u001b[1;32min\u001b[0m \u001b[0mrange\u001b[0m\u001b[1;33m(\u001b[0m\u001b[1;36m10\u001b[0m\u001b[1;33m)\u001b[0m\u001b[1;33m)\u001b[0m\u001b[1;33m\u001b[0m\u001b[0m\n\u001b[0m\u001b[0;32m     26\u001b[0m \u001b[1;33m\u001b[0m\u001b[0m\n\u001b[0;32m     27\u001b[0m             \u001b[0mm\u001b[0m \u001b[1;33m=\u001b[0m \u001b[0mNone\u001b[0m\u001b[1;33m\u001b[0m\u001b[0m\n",
      "\u001b[1;31mValueError\u001b[0m: could not convert string to float: Z8CYFVEO9P"
     ]
    }
   ],
   "source": [
    "import numpy as np\n",
    "import random\n",
    "import string\n",
    "from hrr import HRR\n",
    "\n",
    "HRR.reset_kernel()\n",
    "HRR.verbose = False\n",
    "\n",
    "it = 50\n",
    "HRR.set_size(2048)\n",
    "maxb = 40\n",
    "\n",
    "while(maxb > 2):\n",
    "\n",
    "    good = False\n",
    "    while not good:\n",
    "        \n",
    "        good = True\n",
    "        iterate = 0\n",
    "        while (iterate < it and good):\n",
    "\n",
    "            x = np.empty((maxb,2), dtype=float)\n",
    "            for i in range (maxb):\n",
    "                for j in range(2):\n",
    "                    x[i][j] = ''.join(random.choice(string.ascii_uppercase + string.digits) for _ in range(10))\n",
    "\n",
    "            m = None\n",
    "            for i in range(maxb):\n",
    "                if m is None:\n",
    "                    m = HRR(x[i][0]) * x[i][1]\n",
    "                else:\n",
    "                    new_item = HRR(x[i][0]) * x[i][1]\n",
    "                    m += new_item   \n",
    "                    \n",
    "            i = 0\n",
    "            while (i < maxb and good):\n",
    "                if ((m / x[i][0]) != x[i][1]):\n",
    "                    good = False               \n",
    "                i = i + 1\n",
    "\n",
    "            iterate = iterate + 1\n",
    "    \n",
    "        if not good: \n",
    "            maxb = maxb - 1\n",
    "            print(maxb)\n",
    "        else:\n",
    "            print(\"RESULT\",HRR.size,maxb)\n",
    "            HRR.reset_kernel()\n",
    "            HRR.set_size(HRR.size/2)"
   ]
  },
  {
   "cell_type": "markdown",
   "metadata": {},
   "source": [
    "Correct Percentage in Range\n",
    "-------------------------------\n",
    "Experiment to detect what correctness percentage different vector sizes have for different numbers of added scalar bindings."
   ]
  },
  {
   "cell_type": "code",
   "execution_count": 1,
   "metadata": {
    "collapsed": false
   },
   "outputs": [
    {
     "name": "stderr",
     "output_type": "stream",
     "text": [
      "/disk/users/lesi/HBP/local/lib/python2.7/site-packages/matplotlib/font_manager.py:273: UserWarning: Matplotlib is building the font cache using fc-list. This may take a moment.\n",
      "  warnings.warn('Matplotlib is building the font cache using fc-list. This may take a moment.')\n",
      "hrr.py:48: FutureWarning: comparison to `None` will result in an elementwise object comparison in the future.\n",
      "  if memory != None:\n"
     ]
    },
    {
     "ename": "TypeError",
     "evalue": "'int' object has no attribute '__getitem__'",
     "output_type": "error",
     "traceback": [
      "\u001b[1;31m---------------------------------------------------------------------------\u001b[0m",
      "\u001b[1;31mTypeError\u001b[0m                                 Traceback (most recent call last)",
      "\u001b[1;32m<ipython-input-1-da3d0ab74cb2>\u001b[0m in \u001b[0;36m<module>\u001b[1;34m()\u001b[0m\n\u001b[0;32m     38\u001b[0m             \u001b[0mi\u001b[0m \u001b[1;33m=\u001b[0m \u001b[1;36m0\u001b[0m\u001b[1;33m\u001b[0m\u001b[0m\n\u001b[0;32m     39\u001b[0m             \u001b[1;32mwhile\u001b[0m \u001b[1;33m(\u001b[0m\u001b[0mi\u001b[0m \u001b[1;33m<\u001b[0m \u001b[0mmaxb\u001b[0m \u001b[1;32mand\u001b[0m \u001b[0mgood\u001b[0m\u001b[1;33m)\u001b[0m\u001b[1;33m:\u001b[0m\u001b[1;33m\u001b[0m\u001b[0m\n\u001b[1;32m---> 40\u001b[1;33m                 \u001b[1;32mif\u001b[0m \u001b[1;33m(\u001b[0m\u001b[1;33m(\u001b[0m\u001b[0mm\u001b[0m \u001b[1;33m/\u001b[0m \u001b[0mx\u001b[0m\u001b[1;33m[\u001b[0m\u001b[0mi\u001b[0m\u001b[1;33m]\u001b[0m\u001b[1;33m[\u001b[0m\u001b[1;36m0\u001b[0m\u001b[1;33m]\u001b[0m\u001b[1;33m)\u001b[0m \u001b[1;33m!=\u001b[0m \u001b[0mx\u001b[0m\u001b[1;33m[\u001b[0m\u001b[0mi\u001b[0m\u001b[1;33m]\u001b[0m\u001b[1;33m[\u001b[0m\u001b[1;36m1\u001b[0m\u001b[1;33m]\u001b[0m\u001b[1;33m)\u001b[0m\u001b[1;33m:\u001b[0m\u001b[1;33m\u001b[0m\u001b[0m\n\u001b[0m\u001b[0;32m     41\u001b[0m                     \u001b[0mgood\u001b[0m \u001b[1;33m=\u001b[0m \u001b[0mFalse\u001b[0m\u001b[1;33m\u001b[0m\u001b[0m\n\u001b[0;32m     42\u001b[0m                 \u001b[0mi\u001b[0m \u001b[1;33m=\u001b[0m \u001b[0mi\u001b[0m \u001b[1;33m+\u001b[0m \u001b[1;36m1\u001b[0m\u001b[1;33m\u001b[0m\u001b[0m\n",
      "\u001b[1;32m/disk/users/lesi/dev/hrr/hrr.pyc\u001b[0m in \u001b[0;36m__div__\u001b[1;34m(self, op)\u001b[0m\n\u001b[0;32m    124\u001b[0m                 \u001b[0mself\u001b[0m\u001b[1;33m.\u001b[0m\u001b[0mplot\u001b[0m\u001b[1;33m(\u001b[0m\u001b[0mop_dec\u001b[0m\u001b[1;33m)\u001b[0m\u001b[1;33m\u001b[0m\u001b[0m\n\u001b[0;32m    125\u001b[0m             \u001b[1;32mwhile\u001b[0m \u001b[0mnp\u001b[0m\u001b[1;33m.\u001b[0m\u001b[0mmax\u001b[0m\u001b[1;33m(\u001b[0m\u001b[0mop_dec\u001b[0m\u001b[1;33m)\u001b[0m \u001b[1;33m>\u001b[0m \u001b[1;36m6\u001b[0m \u001b[1;33m*\u001b[0m \u001b[0mabs\u001b[0m\u001b[1;33m(\u001b[0m\u001b[0mnp\u001b[0m\u001b[1;33m.\u001b[0m\u001b[0mmean\u001b[0m\u001b[1;33m(\u001b[0m\u001b[0mop_dec\u001b[0m\u001b[1;33m)\u001b[0m\u001b[1;33m)\u001b[0m\u001b[1;33m:\u001b[0m\u001b[1;33m\u001b[0m\u001b[0m\n\u001b[1;32m--> 126\u001b[1;33m                 \u001b[0mmax_sim\u001b[0m\u001b[1;33m[\u001b[0m\u001b[0mlen\u001b[0m\u001b[1;33m(\u001b[0m\u001b[0mmax_sim\u001b[0m\u001b[1;33m)\u001b[0m\u001b[1;33m]\u001b[0m \u001b[1;33m=\u001b[0m \u001b[0mint\u001b[0m\u001b[1;33m(\u001b[0m\u001b[0mself\u001b[0m\u001b[1;33m.\u001b[0m\u001b[0mreverse_scale\u001b[0m\u001b[1;33m(\u001b[0m\u001b[0mnp\u001b[0m\u001b[1;33m.\u001b[0m\u001b[0margmax\u001b[0m\u001b[1;33m(\u001b[0m\u001b[0mop_dec\u001b[0m\u001b[1;33m)\u001b[0m\u001b[1;33m,\u001b[0m \u001b[0mlen\u001b[0m\u001b[1;33m(\u001b[0m\u001b[0mop_dec\u001b[0m\u001b[1;33m)\u001b[0m\u001b[1;33m)\u001b[0m\u001b[1;33m)\u001b[0m\u001b[1;33m\u001b[0m\u001b[0m\n\u001b[0m\u001b[0;32m    127\u001b[0m                 \u001b[0mcompensate\u001b[0m \u001b[1;33m=\u001b[0m \u001b[0mself\u001b[0m\u001b[1;33m.\u001b[0m\u001b[0mscalar_encoder\u001b[0m\u001b[1;33m(\u001b[0m\u001b[0mself\u001b[0m\u001b[1;33m.\u001b[0m\u001b[0mreverse_scale\u001b[0m\u001b[1;33m(\u001b[0m\u001b[0mnp\u001b[0m\u001b[1;33m.\u001b[0m\u001b[0margmax\u001b[0m\u001b[1;33m(\u001b[0m\u001b[0mop_dec\u001b[0m\u001b[1;33m)\u001b[0m\u001b[1;33m,\u001b[0m \u001b[0mlen\u001b[0m\u001b[1;33m(\u001b[0m\u001b[0mop_dec\u001b[0m\u001b[1;33m)\u001b[0m\u001b[1;33m)\u001b[0m\u001b[1;33m,\u001b[0m \u001b[0mlen\u001b[0m\u001b[1;33m(\u001b[0m\u001b[0mop_dec\u001b[0m\u001b[1;33m)\u001b[0m\u001b[1;33m)\u001b[0m\u001b[1;33m\u001b[0m\u001b[0m\n\u001b[0;32m    128\u001b[0m                 \u001b[0mcompensate\u001b[0m\u001b[1;33m[\u001b[0m\u001b[1;33m:\u001b[0m\u001b[1;33m]\u001b[0m \u001b[1;33m=\u001b[0m \u001b[1;33m[\u001b[0m\u001b[0mx\u001b[0m \u001b[1;33m*\u001b[0m \u001b[1;33m-\u001b[0m\u001b[0mabs\u001b[0m\u001b[1;33m(\u001b[0m\u001b[0mnp\u001b[0m\u001b[1;33m.\u001b[0m\u001b[0mmax\u001b[0m\u001b[1;33m(\u001b[0m\u001b[0mop_dec\u001b[0m\u001b[1;33m)\u001b[0m\u001b[1;33m)\u001b[0m \u001b[1;32mfor\u001b[0m \u001b[0mx\u001b[0m \u001b[1;32min\u001b[0m \u001b[0mcompensate\u001b[0m\u001b[1;33m]\u001b[0m\u001b[1;33m\u001b[0m\u001b[0m\n",
      "\u001b[1;32m/disk/users/lesi/dev/hrr/hrr.pyc\u001b[0m in \u001b[0;36mreverse_scale\u001b[1;34m(self, x, L)\u001b[0m\n\u001b[0;32m    239\u001b[0m \u001b[1;33m\u001b[0m\u001b[0m\n\u001b[0;32m    240\u001b[0m     \u001b[1;32mdef\u001b[0m \u001b[0mreverse_scale\u001b[0m\u001b[1;33m(\u001b[0m\u001b[0mself\u001b[0m\u001b[1;33m,\u001b[0m\u001b[0mx\u001b[0m\u001b[1;33m,\u001b[0m\u001b[0mL\u001b[0m\u001b[1;33m)\u001b[0m\u001b[1;33m:\u001b[0m\u001b[1;33m\u001b[0m\u001b[0m\n\u001b[1;32m--> 241\u001b[1;33m         \u001b[1;32mreturn\u001b[0m \u001b[0mfloat\u001b[0m\u001b[1;33m(\u001b[0m\u001b[0mx\u001b[0m \u001b[1;33m-\u001b[0m \u001b[0mself\u001b[0m\u001b[1;33m.\u001b[0m\u001b[0minput_range\u001b[0m\u001b[1;33m[\u001b[0m\u001b[1;36m0\u001b[0m\u001b[1;33m]\u001b[0m\u001b[1;33m)\u001b[0m \u001b[1;33m/\u001b[0m \u001b[0mL\u001b[0m \u001b[1;33m*\u001b[0m \u001b[1;33m(\u001b[0m\u001b[0mself\u001b[0m\u001b[1;33m.\u001b[0m\u001b[0minput_range\u001b[0m\u001b[1;33m[\u001b[0m\u001b[1;36m1\u001b[0m\u001b[1;33m]\u001b[0m \u001b[1;33m-\u001b[0m \u001b[0mself\u001b[0m\u001b[1;33m.\u001b[0m\u001b[0minput_range\u001b[0m\u001b[1;33m[\u001b[0m\u001b[1;36m0\u001b[0m\u001b[1;33m]\u001b[0m\u001b[1;33m)\u001b[0m\u001b[1;33m\u001b[0m\u001b[0m\n\u001b[0m\u001b[0;32m    242\u001b[0m \u001b[1;33m\u001b[0m\u001b[0m\n\u001b[0;32m    243\u001b[0m     \u001b[1;32mdef\u001b[0m \u001b[0mpermute\u001b[0m\u001b[1;33m(\u001b[0m\u001b[0mself\u001b[0m\u001b[1;33m,\u001b[0m\u001b[0mx\u001b[0m\u001b[1;33m)\u001b[0m\u001b[1;33m:\u001b[0m\u001b[1;33m\u001b[0m\u001b[0m\n",
      "\u001b[1;31mTypeError\u001b[0m: 'int' object has no attribute '__getitem__'"
     ]
    }
   ],
   "source": [
    "import numpy as np\n",
    "import random\n",
    "import string\n",
    "from hrr import HRR\n",
    "\n",
    "input_range = 10000\n",
    "\n",
    "HRR.reset_kernel()\n",
    "HRR.input_range = input_range\n",
    "HRR.verbose = False\n",
    "\n",
    "it = 50\n",
    "HRR.set_size(2048)\n",
    "maxb = 40\n",
    "\n",
    "while(maxb > 2):\n",
    "\n",
    "    good = False\n",
    "    while not good:\n",
    "        \n",
    "        good = True\n",
    "        iterate = 0\n",
    "        while (iterate < it and good):\n",
    "\n",
    "            x = np.empty((maxb,2), dtype=float)\n",
    "            for i in range (maxb):\n",
    "                for j in range(2):\n",
    "                    x[i][j] = random.randrange(input_range)\n",
    "\n",
    "            m = None\n",
    "            for i in range(maxb):\n",
    "                if m is None:\n",
    "                    m = HRR(x[i][0]) * x[i][1]\n",
    "                else:\n",
    "                    new_item = HRR(x[i][0]) * x[i][1]\n",
    "                    m += new_item   \n",
    "                    \n",
    "            i = 0\n",
    "            while (i < maxb and good):\n",
    "                if ((m / x[i][0]) != x[i][1]):\n",
    "                    good = False               \n",
    "                i = i + 1\n",
    "\n",
    "            iterate = iterate + 1\n",
    "    \n",
    "        if not good: \n",
    "            maxb = maxb - 1\n",
    "            print(maxb)\n",
    "        else:\n",
    "            print(\"RESULT\",HRR.size,maxb)\n",
    "            HRR.reset_kernel()\n",
    "            HRR.set_size(HRR.size/2)\n"
   ]
  }
 ],
 "metadata": {
  "kernelspec": {
   "display_name": "Python 2",
   "language": "python",
   "name": "python2"
  },
  "language_info": {
   "codemirror_mode": {
    "name": "ipython",
    "version": 2
   },
   "file_extension": ".py",
   "mimetype": "text/x-python",
   "name": "python",
   "nbconvert_exporter": "python",
   "pygments_lexer": "ipython2",
   "version": "2.7.6"
  }
 },
 "nbformat": 4,
 "nbformat_minor": 0
}
