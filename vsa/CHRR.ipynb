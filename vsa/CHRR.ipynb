{
 "cells": [
  {
   "cell_type": "code",
   "execution_count": null,
   "metadata": {
    "collapsed": false
   },
   "outputs": [
    {
     "name": "stderr",
     "output_type": "stream",
     "text": [
      "/disk/users/lesi/HBP/local/lib/python2.7/site-packages/matplotlib/font_manager.py:273: UserWarning: Matplotlib is building the font cache using fc-list. This may take a moment.\n",
      "  warnings.warn('Matplotlib is building the font cache using fc-list. This may take a moment.')\n"
     ]
    },
    {
     "name": "stdout",
     "output_type": "stream",
     "text": [
      "running\n",
      "(128, 0, 1.0)\n",
      "(256, 0, 1.0)\n",
      "(512, 0, 1.0)\n",
      "(1024, 0, 1.0)\n",
      "(2048, 0, 1.0)\n",
      "(4096, 0, 1.0)\n",
      "(8192, 0, 1.0)\n",
      "(128, 1, 1.0)\n",
      "(256, 1, 1.0)\n"
     ]
    },
    {
     "name": "stderr",
     "output_type": "stream",
     "text": [
      "vsa.py:76: FutureWarning: comparison to `None` will result in an elementwise object comparison in the future.\n",
      "  if memory == None:\n"
     ]
    },
    {
     "name": "stdout",
     "output_type": "stream",
     "text": [
      "(512, 1, 1.0)\n",
      "(1024, 1, 1.0)\n",
      "(2048, 1, 1.0)\n",
      "(4096, 1, 1.0)\n",
      "(8192, 1, 1.0)\n",
      "(128, 2, 0.99019607843137258)\n",
      "(256, 2, 1.0)\n",
      "(512, 2, 1.0)\n",
      "(1024, 2, 1.0)\n",
      "(2048, 2, 1.0)\n",
      "(4096, 2, 1.0)\n",
      "(8192, 2, 1.0)\n",
      "(128, 3, 0.94771241830065356)\n",
      "(256, 3, 1.0)\n",
      "(512, 3, 1.0)\n",
      "(1024, 3, 1.0)\n"
     ]
    }
   ],
   "source": [
    "import numpy as np\n",
    "import random\n",
    "import string\n",
    "import pickle\n",
    "from chrr import CHRR\n",
    "%matplotlib inline \n",
    "import legend\n",
    "\n",
    "CHRR.reset_kernel()\n",
    "\n",
    "it = 50\n",
    "steps = 7\n",
    "maxb = 25\n",
    "first_size = 128\n",
    "results = np.empty((steps,maxb+1), dtype=float)\n",
    "for i in range(steps):\n",
    "    results[i][0] = 1;\n",
    "\n",
    "print(\"running\")\n",
    "\n",
    "for bindings in range(maxb):\n",
    "    CHRR.set_size(first_size)\n",
    "    for step in range(steps):\n",
    "\n",
    "        miss = 0\n",
    "        \n",
    "        for iterate in range(it):\n",
    "            \n",
    "\n",
    "            x = np.empty((bindings,2), dtype='|S20')\n",
    "            for i in range (bindings):\n",
    "                for j in range(2):\n",
    "                    x[i][j] = ''.join(random.choice(string.ascii_uppercase + string.digits) for _ in range(10))\n",
    "\n",
    "            m = None       \n",
    "            for i in range(bindings):\n",
    "                if m is None:\n",
    "                    m = CHRR(x[i][0]) * x[i][1]\n",
    "                else:\n",
    "                    new_item = CHRR(x[i][0]) * x[i][1]\n",
    "                    m += new_item   \n",
    "                    \n",
    "            for i in range(bindings):\n",
    "                fault = False\n",
    "                for e in m / x[i][0]:\n",
    "                    if (e[0] == x[i][1]):\n",
    "                        if (e[1] < CHRR.distance_threshold):\n",
    "                            fault = True\n",
    "                    elif(e[1] >= CHRR.distance_threshold):\n",
    "                        fault = True\n",
    "                if fault:\n",
    "                    miss += 1\n",
    "\n",
    "        results[step][bindings+1] = 1.0 - (float(miss) / ((it + 1) * (bindings + 1)))\n",
    "        print(CHRR.size,bindings,results[step][bindings])\n",
    "        CHRR.reset_kernel()\n",
    "        CHRR.set_size(CHRR.size*2)\n",
    "        \n",
    "legend.getLegend(results,first_size)"
   ]
  }
 ],
 "metadata": {
  "kernelspec": {
   "display_name": "Python 2",
   "language": "python",
   "name": "python2"
  },
  "language_info": {
   "codemirror_mode": {
    "name": "ipython",
    "version": 2
   },
   "file_extension": ".py",
   "mimetype": "text/x-python",
   "name": "python",
   "nbconvert_exporter": "python",
   "pygments_lexer": "ipython2",
   "version": "2.7.6"
  }
 },
 "nbformat": 4,
 "nbformat_minor": 0
}
