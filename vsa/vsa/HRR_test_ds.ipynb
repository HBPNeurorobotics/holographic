{
 "cells": [
  {
   "cell_type": "code",
   "execution_count": 49,
   "metadata": {
    "collapsed": false
   },
   "outputs": [
    {
     "name": "stdout",
     "output_type": "stream",
     "text": [
      "--------------------------------\n",
      "[('WheelDir.BACKWARDS', 0.70698503196626183), ('agent.wheels.right', -0.0014017989778970404), ('agent.wheels.left', 0.0098450173625997499), ('WheelDir.FORWARDS', 0.00051471561511823478)]\n",
      "--------------------------------\n",
      "[('WheelDir.BACKWARDS', 0.41288590331842878), ('agent.wheels.right', -0.0058752500121426552), ('agent.wheels.left', 0.010268533609069432), ('WheelDir.FORWARDS', 0.00074557690569232145)]\n",
      "--------------------------------\n",
      "[('WheelDir.BACKWARDS', -0.011501752708609486), ('agent.wheels.right', -0.0062286612371031591), ('noobject', -0.0030555635155673105), ('agent.wheels.left', 0.0037744543618505196), ('WheelDir.FORWARDS', -0.0017238928142845492)]\n",
      "[('WheelDir.BACKWARDS', -0.0010507047776331926), ('agent.wheels.right', -0.0009154142047020418), ('noobject', -0.0042128793946065168), ('agent.wheels.left', -0.0062303126647664719), ('WheelDir.FORWARDS', -0.002183388051830317)]\n",
      "0.00342953266901\n"
     ]
    }
   ],
   "source": [
    "from hrr import HRR\n",
    "%matplotlib inline\n",
    "\n",
    "HRR.set_size(40960)\n",
    "HRR.valid_range = zip([0.0], [1.0])\n",
    "\n",
    "HRR.stddev = 0.05\n",
    "farleft = HRR(0.1)\n",
    "left = HRR(0.3)\n",
    "front = HRR(0.5)\n",
    "right = HRR(0.7)\n",
    "farright = HRR(0.9)\n",
    "HRR.stddeev = 0.02\n",
    "\n",
    "# test stddev and result\n",
    "#farleft.plot(unpermute=True)\n",
    "#left.plot(unpermute=True)\n",
    "#front.plot(unpermute=True)\n",
    "#right.plot(unpermute=True)\n",
    "#farright.plot(unpermute=True)\n",
    "#temp = farleft + left + front + right + farright\n",
    "#temp.plot(unpermute=True)\n",
    "\n",
    "left_wheel_backwards = HRR(\"agent.wheels.left\") * HRR(\"WheelDir.BACKWARDS\")\n",
    "left_wheel_forwards = HRR(\"agent.wheels.left\") * HRR(\"WheelDir.FORWARDS\")\n",
    "right_wheel_backwards = HRR(\"agent.wheels.right\") * HRR(\"WheelDir.BACKWARDS\")\n",
    "right_wheel_forwards = HRR(\"agent.wheels.right\") * HRR(\"WheelDir.FORWARDS\")\n",
    "\n",
    "r = left_wheel_backwards / HRR(\"agent.wheels.left\")\n",
    "print(\"--------------------------------\")\n",
    "print(r)\n",
    "\n",
    "farleft_ctl = farleft * (left_wheel_backwards + right_wheel_forwards)\n",
    "left_ctl = (left * left_wheel_backwards) + (left * right_wheel_forwards)\n",
    "front_ctl = front * (left_wheel_forwards + right_wheel_forwards)\n",
    "right_ctl = (right * left_wheel_forwards) + (right * right_wheel_backwards)\n",
    "farright_ctl = (farright * left_wheel_forwards) + (farright * right_wheel_backwards)\n",
    "\n",
    "print(\"--------------------------------\")\n",
    "r = (farleft_ctl % HRR(0.1)) / HRR(\"agent.wheels.left\")\n",
    "print(r)\n",
    "\n",
    "octl = HRR(\"noobject\") * (left_wheel_backwards + right_wheel_forwards)\n",
    "\n",
    "sensor_ctl = farleft_ctl + left_ctl + front_ctl + right_ctl + farright_ctl + octl\n",
    "print(\"--------------------------------\")\n",
    "r = (sensor_ctl % HRR(0.52)) / HRR(\"agent.wheels.left\")\n",
    "print(r)\n",
    "r = (sensor_ctl % HRR(0.52)) / HRR(\"agent.wheels.right\")\n",
    "print(r)\n",
    "r = sensor_ctl.distance((sensor_ctl % farleft).memory, (left_wheel_backwards + right_wheel_forwards).memory)\n",
    "print(r)\n",
    "#m = (HRR(\"A\") * 0.1) + (HRR(\"B\") * 0.5) + (HRR(\"C\") * 0.9)\n",
    "#r = m / 0.5\n",
    "#print(r)\n",
    "#r = m / \"B\"\n",
    "#print(r)\n",
    "#r = m % \"B\"\n",
    "#r.plot(unpermute=True)\n"
   ]
  },
  {
   "cell_type": "code",
   "execution_count": null,
   "metadata": {
    "collapsed": true
   },
   "outputs": [],
   "source": []
  },
  {
   "cell_type": "code",
   "execution_count": null,
   "metadata": {
    "collapsed": true
   },
   "outputs": [],
   "source": []
  }
 ],
 "metadata": {
  "kernelspec": {
   "display_name": "Python 2",
   "language": "python",
   "name": "python2"
  },
  "language_info": {
   "codemirror_mode": {
    "name": "ipython",
    "version": 2
   },
   "file_extension": ".py",
   "mimetype": "text/x-python",
   "name": "python",
   "nbconvert_exporter": "python",
   "pygments_lexer": "ipython2",
   "version": "2.7.6"
  }
 },
 "nbformat": 4,
 "nbformat_minor": 0
}
