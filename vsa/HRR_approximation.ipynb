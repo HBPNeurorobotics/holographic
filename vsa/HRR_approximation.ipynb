{
 "cells": [
  {
   "cell_type": "code",
   "execution_count": null,
   "metadata": {
    "collapsed": false,
    "scrolled": true
   },
   "outputs": [
    {
     "name": "stderr",
     "output_type": "stream",
     "text": [
      "/disk/users/spies/workspace/venvs/jupyter/local/lib/python2.7/site-packages/matplotlib/font_manager.py:273: UserWarning: Matplotlib is building the font cache using fc-list. This may take a moment.\n",
      "  warnings.warn('Matplotlib is building the font cache using fc-list. This may take a moment.')\n",
      "hrr.py:44: FutureWarning: comparison to `None` will result in an elementwise object comparison in the future.\n",
      "  if memory != None:\n",
      "hrr.py:46: FutureWarning: comparison to `None` will result in an elementwise object comparison in the future.\n",
      "  elif generator != None:\n"
     ]
    }
   ],
   "source": [
    "from hrr import HRR\n",
    "import matplotlib.pyplot as plt\n",
    "import numpy as np\n",
    "from approximation import Approximation\n",
    "%matplotlib inline\n",
    "\n",
    "HRR.verbose = False\n",
    "\n",
    "def fn_square(x):\n",
    "    return x * x\n",
    "\n",
    "num_train_samples = 100\n",
    "num_test_samples = 20\n",
    "\n",
    "# test different stddev:\n",
    "plt.figure()\n",
    "plt_handles = []\n",
    "for i in range(1, 10):\n",
    "    appr = Approximation(fn=fn_square, size=1000)\n",
    "    appr.learn(in_range=(-1.0, 1.0), n_samples=num_train_samples, stddev=(i * 0.001))\n",
    "    X = np.linspace(HRR.input_range[0], HRR.input_range[1], num_test_samples)\n",
    "    Y_hrr = np.empty(num_test_samples, dtype=float)\n",
    "    Y_np = np.empty(num_test_samples, dtype=float)\n",
    "    for j, x in enumerate(X):\n",
    "        A = HRR(x)\n",
    "        B = A * appr.T\n",
    "        Y_hrr[j] = B.decode()\n",
    "        #Y_np[j] = self.fn(x)\n",
    "    handle, = plt.plot(X, Y_hrr, label=\"stddev {}\".format(i * 0.001))\n",
    "    plt_handles.append(handle)\n",
    "    \n",
    "plt.legend(handles=plt_handles, bbox_to_anchor=(1.05, 1), loc=2, borderaxespad=0.0)\n",
    "plt.show()\n"
   ]
  },
  {
   "cell_type": "code",
   "execution_count": null,
   "metadata": {
    "collapsed": false
   },
   "outputs": [],
   "source": [
    "appr = Approximation(fn=fn_square, size=1000)\n",
    "appr.learn(in_range=(-1.0, 1.0), n_samples=20, stddev=0.02)\n",
    "appr.plot_result(n_samples=20)"
   ]
  },
  {
   "cell_type": "code",
   "execution_count": null,
   "metadata": {
    "collapsed": false
   },
   "outputs": [],
   "source": [
    "# this test shows that lower stddev seems to yield better results\n",
    "appr = Approximation(fn=fn_square, size=1000)\n",
    "appr.learn(in_range=(-1.0, 1.0), n_samples=20, stddev=0.006)\n",
    "appr.plot_result(n_samples=20)"
   ]
  },
  {
   "cell_type": "code",
   "execution_count": null,
   "metadata": {
    "collapsed": false
   },
   "outputs": [],
   "source": [
    "# obviously, probing the result at the same values as the sampling points yields better results, too\n",
    "appr = Approximation(fn=fn_square, size=1000)\n",
    "appr.learn(in_range=(-1.0, 1.0), n_samples=20, stddev=0.006)\n",
    "appr.plot_result(n_samples=15)  # test different x values (n=15) than training (n=20)"
   ]
  },
  {
   "cell_type": "code",
   "execution_count": null,
   "metadata": {
    "collapsed": false
   },
   "outputs": [],
   "source": [
    "def fn_other(x):\n",
    "    return 2*x**3 + x**2 - 2*x\n",
    "\n",
    "appr = Approximation(fn=fn_other, size=1000)\n",
    "appr.learn(in_range=(-3.0, 3.0), n_samples=20, stddev=0.003)\n",
    "appr.plot_result(n_samples=20)\n",
    "\n",
    "X = np.linspace(HRR.input_range[0], HRR.input_range[1], 20)\n",
    "from hrr import smooth\n",
    "for i, x in enumerate(X):\n",
    "    A = HRR(x)\n",
    "    B = A * appr.T\n",
    "    #HRR.plot(HRR.reverse_permute(HRR(x).memory))\n",
    "    #HRR.plot(HRR.reverse_permute(B.memory))\n",
    "    B_smooth = smooth(HRR.reverse_permute(B.memory), window_len=(HRR.size * 0.01))\n",
    "    HRR.plot(B_smooth)"
   ]
  },
  {
   "cell_type": "code",
   "execution_count": null,
   "metadata": {
    "collapsed": false
   },
   "outputs": [],
   "source": [
    "def fn_sigmoid(x):\n",
    "    return 1.0 / (1.0 + np.e**(-x))\n",
    "\n",
    "appr = Approximation(fn=fn_sigmoid, size=1000)\n",
    "appr.learn(in_range=(-6.0, 6.0), n_samples=20, stddev=0.006)\n",
    "appr.plot_result(n_samples=20)"
   ]
  },
  {
   "cell_type": "code",
   "execution_count": null,
   "metadata": {
    "collapsed": false
   },
   "outputs": [],
   "source": [
    "appr = Approximation(fn=np.sin, size=1000)\n",
    "appr.learn(in_range=(0.0, 2 * np.pi), n_samples=20, stddev=0.006)\n",
    "appr.plot_result(n_samples=20)"
   ]
  },
  {
   "cell_type": "code",
   "execution_count": null,
   "metadata": {
    "collapsed": true
   },
   "outputs": [],
   "source": []
  }
 ],
 "metadata": {
  "kernelspec": {
   "display_name": "Python 2",
   "language": "python",
   "name": "python2"
  },
  "language_info": {
   "codemirror_mode": {
    "name": "ipython",
    "version": 2
   },
   "file_extension": ".py",
   "mimetype": "text/x-python",
   "name": "python",
   "nbconvert_exporter": "python",
   "pygments_lexer": "ipython2",
   "version": "2.7.6"
  }
 },
 "nbformat": 4,
 "nbformat_minor": 0
}
