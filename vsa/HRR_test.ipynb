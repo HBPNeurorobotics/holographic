{
 "cells": [
  {
   "cell_type": "code",
   "execution_count": 6,
   "metadata": {
    "collapsed": false
   },
   "outputs": [
    {
     "name": "stdout",
     "output_type": "stream",
     "text": [
      "Distance from a is 0.012046729741\n",
      "Distance from b is 0.702031433734\n",
      "False\n",
      "Distance from a is 0.0191052024973\n",
      "Distance from b is 0.0170188734247\n",
      "{0: 19}\n",
      "All tests have passeed successfully!\n"
     ]
    }
   ],
   "source": [
    "import numpy as np\n",
    "from hrr import HRR\n",
    "%matplotlib inline \n",
    "\n",
    "HRR.reset_kernel()\n",
    "HRR.verbose = False\n",
    "HRR.visualize = False\n",
    "\n",
    "#HRR size tests\n",
    "#TODO reset kernel on set size?\n",
    "\n",
    "assert(len(HRR.permutation[HRR.size]) == HRR.size)\n",
    "\n",
    "new_size = 10000\n",
    "HRR.set_size(new_size)\n",
    "assert(HRR.size == new_size)\n",
    "assert(len(HRR.permutation[new_size]) == new_size)\n",
    "\n",
    "try: \n",
    "    HRR.set_size(0)\n",
    "except AssertionError:\n",
    "    assert(HRR.size == new_size)\n",
    "    \n",
    "try: \n",
    "    HRR.set_size(-new_size)\n",
    "except AssertionError:\n",
    "    assert(HRR.size == new_size)\n",
    "    \n",
    "#TODO HRR init tests, what's up with the label and generator?\n",
    "\n",
    "#HRR reset kernel\n",
    "#TODO HRR reset kernel doesn't reset some variables, like range, verbose, visualize. Fix or leave?\n",
    "#TODO also HRR set size doesn't reset kernel, which gives us encodings of variable length. Fix or leave?\n",
    "\n",
    "HRR.mapping[\"test\"] = np.random.rand(HRR.size)\n",
    "HRR.reset_kernel()\n",
    "assert(\"test\" not in HRR.mapping)\n",
    "\n",
    "#HRR addition and subtraction invariant\n",
    "\n",
    "assert((HRR(\"a\") + HRR(\"b\") - HRR(\"a\")).memory.all() == HRR(\"b\").memory.all())\n",
    "\n",
    "#TODO HRR div / mul / mod tests, but what to check?\n",
    "\n",
    "#HRR same length for any encoder\n",
    "\n",
    "assert(len(HRR(\"a\").memory) == len(HRR(1).memory))\n",
    "assert(len(HRR(\"a\").memory) == len(HRR(1.5).memory))\n",
    "assert(len(HRR(\"a\").memory) == len(HRR((1,2)).memory))\n",
    "\n",
    "#HRR same encoding for different instances\n",
    "\n",
    "assert(HRR(\"a\").memory.all() == HRR(\"a\").memory.all())\n",
    "assert(HRR(1).memory.all() == HRR(1).memory.all())\n",
    "assert(HRR(1.5).memory.all() == HRR(1.5).memory.all())\n",
    "assert(HRR((1,2)).memory.all() == HRR((1,2)).memory.all())\n",
    "\n",
    "#-------------------------------------------------------------------------------------------------------------------\n",
    "\n",
    "HRR.reset_kernel()\n",
    "HRR.set_size(256)\n",
    "\n",
    "assert(HRR(\"a\")*\"b\"/\"a\" == \"b\")\n",
    "print(HRR(10)*20/10)\n",
    "\n",
    "print(\"All tests have passeed successfully!\")"
   ]
  }
 ],
 "metadata": {
  "kernelspec": {
   "display_name": "Python 2",
   "language": "python",
   "name": "python2"
  },
  "language_info": {
   "codemirror_mode": {
    "name": "ipython",
    "version": 2
   },
   "file_extension": ".py",
   "mimetype": "text/x-python",
   "name": "python",
   "nbconvert_exporter": "python",
   "pygments_lexer": "ipython2",
   "version": "2.7.6"
  }
 },
 "nbformat": 4,
 "nbformat_minor": 0
}
