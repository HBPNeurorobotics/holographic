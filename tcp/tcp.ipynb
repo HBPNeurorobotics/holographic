{
 "cells": [
  {
   "cell_type": "code",
   "execution_count": 2,
   "metadata": {
    "collapsed": false
   },
   "outputs": [
    {
     "name": "stdout",
     "output_type": "stream",
     "text": [
      "[ 20.   0.]\n",
      "[ 10.  10.]\n"
     ]
    }
   ],
   "source": [
    "from tcp import TCP\n",
    "\n",
    "TCP.verbose = False\n",
    "\n",
    "t = TCP([0,0])\n",
    "t.computeTcp()\n",
    "print(t.tcp)\n",
    "t.setAngles([90,0])\n",
    "t.computeTcp()\n",
    "print(t.tcp)"
   ]
  },
  {
   "cell_type": "code",
   "execution_count": null,
   "metadata": {
    "collapsed": true
   },
   "outputs": [],
   "source": []
  }
 ],
 "metadata": {
  "kernelspec": {
   "display_name": "Python 2",
   "language": "python",
   "name": "python2"
  },
  "language_info": {
   "codemirror_mode": {
    "name": "ipython",
    "version": 2
   },
   "file_extension": ".py",
   "mimetype": "text/x-python",
   "name": "python",
   "nbconvert_exporter": "python",
   "pygments_lexer": "ipython2",
   "version": "2.7.6"
  }
 },
 "nbformat": 4,
 "nbformat_minor": 0
}
